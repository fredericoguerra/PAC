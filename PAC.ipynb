{
 "cells": [
  {
   "cell_type": "code",
   "execution_count": 1,
   "metadata": {},
   "outputs": [],
   "source": [
    "import pandas as pd\n",
    "pd.set_option('display.max_colwidth', -1)\n",
    "import pandas_profiling as pp\n",
    "from scipy import stats\n",
    "import numpy as np\n",
    "import matplotlib.pyplot as plt\n",
    "import seaborn as sns\n",
    "%matplotlib inline\n",
    "from datetime import datetime, timedelta"
   ]
  },
  {
   "cell_type": "code",
   "execution_count": 2,
   "metadata": {},
   "outputs": [
    {
     "data": {
      "text/plain": [
       "(29345, 16)"
      ]
     },
     "execution_count": 2,
     "metadata": {},
     "output_type": "execute_result"
    }
   ],
   "source": [
    "pac17 = pd.read_csv('PAC_2018_12.csv', sep = ',', error_bad_lines = False, encoding = 'latin-1')\n",
    "conversao_digs = pd.read_csv('conversao_digs.csv', sep = ',', error_bad_lines = False, encoding = 'utf8')\n",
    "#pac17 = pac17.drop(columns = ['aaa'])\n",
    "pac17.shape"
   ]
  },
  {
   "cell_type": "markdown",
   "metadata": {},
   "source": [
    "# Descrição dos dados"
   ]
  },
  {
   "cell_type": "markdown",
   "metadata": {},
   "source": [
    "# Pré-processamento dos Dados"
   ]
  },
  {
   "cell_type": "markdown",
   "metadata": {},
   "source": [
    "A coluna *investimento_total* no dataset ```pac17``` contém incosistências de formatação com valores em vírgula e ponto. A célula abaixo troca ```,``` por ```.``` e converte o formato da coluna para numérico."
   ]
  },
  {
   "cell_type": "code",
   "execution_count": 3,
   "metadata": {},
   "outputs": [],
   "source": [
    "pac17['investimento_total'] = pac17.investimento_total.replace(',','.', regex=True).astype('float64')"
   ]
  },
  {
   "cell_type": "code",
   "execution_count": 4,
   "metadata": {},
   "outputs": [],
   "source": [
    "def change_type_by_name(data, string, final_type):\n",
    "    for col in data.columns:\n",
    "        if string in col:\n",
    "            data[col] = data[col].astype(final_type)\n",
    "    return data\n",
    "pac17 = change_type_by_name(pac17, 'idn_', 'object')"
   ]
  },
  {
   "cell_type": "markdown",
   "metadata": {},
   "source": [
    "Considerando apenas os dados quem contém o código __BA__ na sigla do estado do empreendimento e desconsiderando os dados onde `sigla_uf` apresenta valores __NULL__."
   ]
  },
  {
   "cell_type": "code",
   "execution_count": 5,
   "metadata": {},
   "outputs": [],
   "source": [
    "pac17 = pac17.dropna(subset = ['sig_uf'])\n",
    "pacba17 = pac17[pac17['sig_uf'].str.contains('BA')]"
   ]
  },
  {
   "cell_type": "code",
   "execution_count": 6,
   "metadata": {},
   "outputs": [
    {
     "name": "stdout",
     "output_type": "stream",
     "text": [
      "Obras no estado da Bahia sem valores de investimento: 5.07%\n"
     ]
    }
   ],
   "source": [
    "print('Obras no estado da Bahia sem valores de investimento: {:.2%}'.format(float(pacba17.investimento_total.isnull().sum())/pacba17.shape[0]))"
   ]
  },
  {
   "cell_type": "code",
   "execution_count": 7,
   "metadata": {},
   "outputs": [
    {
     "name": "stderr",
     "output_type": "stream",
     "text": [
      "/home/fguer/.local/lib/python2.7/site-packages/ipykernel_launcher.py:1: SettingWithCopyWarning: \n",
      "A value is trying to be set on a copy of a slice from a DataFrame.\n",
      "Try using .loc[row_indexer,col_indexer] = value instead\n",
      "\n",
      "See the caveats in the documentation: http://pandas.pydata.org/pandas-docs/stable/indexing.html#indexing-view-versus-copy\n",
      "  \"\"\"Entry point for launching an IPython kernel.\n",
      "/home/fguer/.local/lib/python2.7/site-packages/ipykernel_launcher.py:2: SettingWithCopyWarning: \n",
      "A value is trying to be set on a copy of a slice from a DataFrame.\n",
      "Try using .loc[row_indexer,col_indexer] = value instead\n",
      "\n",
      "See the caveats in the documentation: http://pandas.pydata.org/pandas-docs/stable/indexing.html#indexing-view-versus-copy\n",
      "  \n"
     ]
    }
   ],
   "source": [
    "pacba17['id_digs'] = pacba17.id_digs.astype('str')\n",
    "pacba17['id_digs'] = pacba17['id_digs'].map(lambda x: str(x)[:-2])\n",
    "conversao_digs['id_digs'] = conversao_digs.id_digs.astype('str')"
   ]
  },
  {
   "cell_type": "code",
   "execution_count": 8,
   "metadata": {},
   "outputs": [],
   "source": [
    "pacba17 = pacba17.join(conversao_digs.set_index('id_digs'), on='id_digs')"
   ]
  },
  {
   "cell_type": "code",
   "execution_count": 9,
   "metadata": {},
   "outputs": [
    {
     "data": {
      "text/plain": [
       "idn_empreendimento        object \n",
       "id_digs                   object \n",
       "titulo                    object \n",
       "investimento_total        float64\n",
       "sig_uf                    object \n",
       "txt_municipios            object \n",
       "txt_executores            object \n",
       "dsc_orgao                 object \n",
       "idn_estagio               object \n",
       "dat_ciclo                 object \n",
       "dat_selecao               object \n",
       "dat_conclusao_revisada    object \n",
       "obra_latitude             object \n",
       "obra_longitude            object \n",
       "emblematica               object \n",
       "observacao                object \n",
       "tipo_empreendimento       object \n",
       "subeixo                   object \n",
       "dtype: object"
      ]
     },
     "execution_count": 9,
     "metadata": {},
     "output_type": "execute_result"
    }
   ],
   "source": [
    "pacba17.dtypes"
   ]
  },
  {
   "cell_type": "markdown",
   "metadata": {},
   "source": [
    "### Feature Engineering"
   ]
  },
  {
   "cell_type": "code",
   "execution_count": 10,
   "metadata": {},
   "outputs": [],
   "source": [
    "pacba17['idn_estagio'] = pacba17.idn_estagio.astype('int')"
   ]
  },
  {
   "cell_type": "code",
   "execution_count": 11,
   "metadata": {},
   "outputs": [
    {
     "data": {
      "text/html": [
       "<div>\n",
       "<style scoped>\n",
       "    .dataframe tbody tr th:only-of-type {\n",
       "        vertical-align: middle;\n",
       "    }\n",
       "\n",
       "    .dataframe tbody tr th {\n",
       "        vertical-align: top;\n",
       "    }\n",
       "\n",
       "    .dataframe thead th {\n",
       "        text-align: right;\n",
       "    }\n",
       "</style>\n",
       "<table border=\"1\" class=\"dataframe\">\n",
       "  <thead>\n",
       "    <tr style=\"text-align: right;\">\n",
       "      <th></th>\n",
       "      <th>idn_empreendimento</th>\n",
       "      <th>id_digs</th>\n",
       "      <th>titulo</th>\n",
       "      <th>investimento_total</th>\n",
       "      <th>sig_uf</th>\n",
       "      <th>txt_municipios</th>\n",
       "      <th>txt_executores</th>\n",
       "      <th>dsc_orgao</th>\n",
       "      <th>dat_ciclo</th>\n",
       "      <th>dat_selecao</th>\n",
       "      <th>dat_conclusao_revisada</th>\n",
       "      <th>obra_latitude</th>\n",
       "      <th>obra_longitude</th>\n",
       "      <th>emblematica</th>\n",
       "      <th>observacao</th>\n",
       "      <th>tipo_empreendimento</th>\n",
       "      <th>subeixo</th>\n",
       "      <th>estagio</th>\n",
       "    </tr>\n",
       "  </thead>\n",
       "  <tbody>\n",
       "    <tr>\n",
       "      <th>19</th>\n",
       "      <td>1567</td>\n",
       "      <td>6002</td>\n",
       "      <td>Sistema Adutor de Jacobina - BA</td>\n",
       "      <td>3.426000e+07</td>\n",
       "      <td>BA</td>\n",
       "      <td>JACOBINA/BA</td>\n",
       "      <td>Estado</td>\n",
       "      <td>Ministério da Integração Nacional</td>\n",
       "      <td>31/12/2018</td>\n",
       "      <td>29/06/2012</td>\n",
       "      <td>02/02/2018</td>\n",
       "      <td>NaN</td>\n",
       "      <td>NaN</td>\n",
       "      <td>NaN</td>\n",
       "      <td>NaN</td>\n",
       "      <td>Recursos Hídricos</td>\n",
       "      <td>Infraestrutura Social e Urbana</td>\n",
       "      <td>concluido</td>\n",
       "    </tr>\n",
       "    <tr>\n",
       "      <th>33</th>\n",
       "      <td>2489</td>\n",
       "      <td>1000</td>\n",
       "      <td>BR-101/BA - Duplicação da Divisa SE/BA à Feira de Santana - BA</td>\n",
       "      <td>1.166702e+09</td>\n",
       "      <td>BA</td>\n",
       "      <td>ALAGOINHAS/BA, AMÉLIA RODRIGUES/BA, ARAÇAS/BA, ENTRE RIOS/BA, ESPLANADA/BA, FEIRA DE SANTANA/BA, RIO REAL/BA, TEODORO SAMPAIO/BA</td>\n",
       "      <td>DNIT</td>\n",
       "      <td>Ministério dos Transportes, Portos e Aviação Civil</td>\n",
       "      <td>31/12/2018</td>\n",
       "      <td>NaN</td>\n",
       "      <td>NaN</td>\n",
       "      <td>NaN</td>\n",
       "      <td>NaN</td>\n",
       "      <td>NaN</td>\n",
       "      <td>NaN</td>\n",
       "      <td>Rodovias</td>\n",
       "      <td>Infraestrutura Logística</td>\n",
       "      <td>em_obras</td>\n",
       "    </tr>\n",
       "    <tr>\n",
       "      <th>55</th>\n",
       "      <td>4508</td>\n",
       "      <td>1000</td>\n",
       "      <td>BR-135/BA - Construção de São Desidério à Divisa BA/MG - BA</td>\n",
       "      <td>9.457615e+08</td>\n",
       "      <td>BA</td>\n",
       "      <td>ANGICAL/BA, BARREIRAS/BA, COCOS/BA, CORIBE/BA, CORRENTINA/BA, FEIRA DA MATA/BA, FORMOSA DO RIO PRETO/BA, JABORANDI/BA, RIACHÃO DAS NEVES/BA, SANTA RITA DE CÁSSIA/BA, SÃO DESIDÉRIO/BA</td>\n",
       "      <td>DNIT</td>\n",
       "      <td>Ministério dos Transportes, Portos e Aviação Civil</td>\n",
       "      <td>31/12/2018</td>\n",
       "      <td>NaN</td>\n",
       "      <td>NaN</td>\n",
       "      <td>NaN</td>\n",
       "      <td>NaN</td>\n",
       "      <td>NaN</td>\n",
       "      <td>NaN</td>\n",
       "      <td>Rodovias</td>\n",
       "      <td>Infraestrutura Logística</td>\n",
       "      <td>em_obras</td>\n",
       "    </tr>\n",
       "    <tr>\n",
       "      <th>59</th>\n",
       "      <td>4567</td>\n",
       "      <td>2001</td>\n",
       "      <td>LT 230 kV Eunápolis - Teixeira de Freitas II, C1 - BA</td>\n",
       "      <td>6.751000e+07</td>\n",
       "      <td>BA</td>\n",
       "      <td>EUNÁPOLIS/BA, TEIXEIRA DE FREITAS/BA</td>\n",
       "      <td>Companhia hidro elétrica do São Francisco</td>\n",
       "      <td>Ministério de Minas e Energia</td>\n",
       "      <td>31/12/2018</td>\n",
       "      <td>NaN</td>\n",
       "      <td>NaN</td>\n",
       "      <td>NaN</td>\n",
       "      <td>NaN</td>\n",
       "      <td>NaN</td>\n",
       "      <td>NaN</td>\n",
       "      <td>Transmissão de Energia Elétrica</td>\n",
       "      <td>Infraestrutura Energética</td>\n",
       "      <td>em_obras</td>\n",
       "    </tr>\n",
       "    <tr>\n",
       "      <th>62</th>\n",
       "      <td>4878</td>\n",
       "      <td>2001</td>\n",
       "      <td>SE Pólo 230/69 kV - BA</td>\n",
       "      <td>3.269000e+07</td>\n",
       "      <td>BA</td>\n",
       "      <td>CAMAÇARI/BA</td>\n",
       "      <td>Companhia hidro elétrica do São Francisco</td>\n",
       "      <td>Ministério de Minas e Energia</td>\n",
       "      <td>31/12/2018</td>\n",
       "      <td>NaN</td>\n",
       "      <td>28/02/2016</td>\n",
       "      <td>12°41'52.800000\"S</td>\n",
       "      <td>38°19'25.680000\"O</td>\n",
       "      <td>NaN</td>\n",
       "      <td>NaN</td>\n",
       "      <td>Transmissão de Energia Elétrica</td>\n",
       "      <td>Infraestrutura Energética</td>\n",
       "      <td>concluido</td>\n",
       "    </tr>\n",
       "    <tr>\n",
       "      <th>76</th>\n",
       "      <td>5723</td>\n",
       "      <td>1000</td>\n",
       "      <td>BR-418/BA - Construção Caravelas - Entr. BR-101/BA - BA</td>\n",
       "      <td>1.186200e+08</td>\n",
       "      <td>BA</td>\n",
       "      <td>ALCOBAÇA/BA, CARAVELAS/BA</td>\n",
       "      <td>DNIT; Exército</td>\n",
       "      <td>Ministério dos Transportes, Portos e Aviação Civil</td>\n",
       "      <td>31/12/2018</td>\n",
       "      <td>NaN</td>\n",
       "      <td>30/12/2015</td>\n",
       "      <td>NaN</td>\n",
       "      <td>NaN</td>\n",
       "      <td>NaN</td>\n",
       "      <td>NaN</td>\n",
       "      <td>Rodovias</td>\n",
       "      <td>Infraestrutura Logística</td>\n",
       "      <td>concluido</td>\n",
       "    </tr>\n",
       "    <tr>\n",
       "      <th>93</th>\n",
       "      <td>6006</td>\n",
       "      <td>2001</td>\n",
       "      <td>LT 230 kV Eunápolis - Teixeira de Freitas II, C2 - BA</td>\n",
       "      <td>4.500000e+07</td>\n",
       "      <td>BA</td>\n",
       "      <td>EUNÁPOLIS/BA, TEIXEIRA DE FREITAS/BA</td>\n",
       "      <td>Companhia hidro elétrica do São Francisco</td>\n",
       "      <td>Ministério de Minas e Energia</td>\n",
       "      <td>31/12/2018</td>\n",
       "      <td>NaN</td>\n",
       "      <td>NaN</td>\n",
       "      <td>NaN</td>\n",
       "      <td>NaN</td>\n",
       "      <td>NaN</td>\n",
       "      <td>NaN</td>\n",
       "      <td>Transmissão de Energia Elétrica</td>\n",
       "      <td>Infraestrutura Energética</td>\n",
       "      <td>em_obras</td>\n",
       "    </tr>\n",
       "    <tr>\n",
       "      <th>102</th>\n",
       "      <td>6047</td>\n",
       "      <td>1001</td>\n",
       "      <td>Trecho da Ferrovia de Integração Oeste Leste - Construção Ilhéus/BA - Caetité/BA - BA</td>\n",
       "      <td>4.602700e+09</td>\n",
       "      <td>BA</td>\n",
       "      <td>BARREIRAS/BA, ILHÉUS/BA</td>\n",
       "      <td>VALEC</td>\n",
       "      <td>Ministério dos Transportes, Portos e Aviação Civil</td>\n",
       "      <td>31/12/2018</td>\n",
       "      <td>NaN</td>\n",
       "      <td>NaN</td>\n",
       "      <td>NaN</td>\n",
       "      <td>NaN</td>\n",
       "      <td>EMBLEMATICA</td>\n",
       "      <td>NaN</td>\n",
       "      <td>Ferrovia</td>\n",
       "      <td>Infraestrutura Logística</td>\n",
       "      <td>em_obras</td>\n",
       "    </tr>\n",
       "    <tr>\n",
       "      <th>111</th>\n",
       "      <td>6118</td>\n",
       "      <td>3003</td>\n",
       "      <td>Metrô de Salvador - Linha 1 - Trecho 2 - Acesso Norte - Pirajá</td>\n",
       "      <td>9.657347e+08</td>\n",
       "      <td>BA</td>\n",
       "      <td>SALVADOR/BA</td>\n",
       "      <td>Companhia de Transporte de Salvador - CTS</td>\n",
       "      <td>Ministério das Cidades</td>\n",
       "      <td>31/12/2018</td>\n",
       "      <td>04/10/2013</td>\n",
       "      <td>15/08/2017</td>\n",
       "      <td>NaN</td>\n",
       "      <td>NaN</td>\n",
       "      <td>NaN</td>\n",
       "      <td>NaN</td>\n",
       "      <td>Mobilidade Urbana</td>\n",
       "      <td>Infraestrutura Social e Urbana</td>\n",
       "      <td>concluido</td>\n",
       "    </tr>\n",
       "    <tr>\n",
       "      <th>112</th>\n",
       "      <td>6180</td>\n",
       "      <td>1002</td>\n",
       "      <td>Porto Sem Papel - Fase 2 - Concentrador de Dados e Portal de Informações Portuárias - AL AM AP BA CE ES MA PA PB PE PR RJ RN RS SC SP</td>\n",
       "      <td>1.641500e+08</td>\n",
       "      <td>AL AM AP BA CE ES MA PA PB PE PR RJ RN RS SC SP</td>\n",
       "      <td>ANGRA DOS REIS/RJ, ANTONINA/PR, ARACRUZ/ES, AREIA BRANCA/RN, ARRAIAL DO CABO/RJ, BARCARENA/PA, BELÉM/PA, CABEDELO/PB, CABO DE SANTO AGOSTINHO/PE, CANDEIAS/BA, FORTALEZA/CE, ILHÉUS/BA, IMBITUBA/SC, ITAGUAÍ/RJ, ITAJAÍ/SC, LAGUNA/SC, MACAPÁ/AP, MACEIÓ/AL, MANAUS/AM, NATAL/RN, NITERÓI/RJ, PARANAGUÁ/PR, PELOTAS/RS, PORTO ALEGRE/RS, RECIFE/PE, RIO GRANDE/RS, SALVADOR/BA, SANTARÉM/PA, SÃO FRANCISCO DO SUL/SC, SÃO GONÇALO DO AMARANTE/CE, SÃO LUÍS/MA, SÃO SEBASTIÃO/SP</td>\n",
       "      <td>Serviço Federal de Processamento de Dados - SERPRO</td>\n",
       "      <td>Ministério dos Transportes, Portos e Aviação Civil</td>\n",
       "      <td>31/12/2018</td>\n",
       "      <td>NaN</td>\n",
       "      <td>NaN</td>\n",
       "      <td>22°52'50.757600\"S</td>\n",
       "      <td>43°6'15.606000\"O</td>\n",
       "      <td>EMBLEMATICA</td>\n",
       "      <td>NaN</td>\n",
       "      <td>Porto</td>\n",
       "      <td>Infraestrutura Logística</td>\n",
       "      <td>em_obras</td>\n",
       "    </tr>\n",
       "    <tr>\n",
       "      <th>145</th>\n",
       "      <td>7938</td>\n",
       "      <td>1000</td>\n",
       "      <td>BR-242/BA - Construção do Entr BA-460 à Divisa BA/TO - BA</td>\n",
       "      <td>1.090878e+08</td>\n",
       "      <td>BA</td>\n",
       "      <td>BARREIRAS/BA</td>\n",
       "      <td>DNIT</td>\n",
       "      <td>Ministério dos Transportes, Portos e Aviação Civil</td>\n",
       "      <td>31/12/2018</td>\n",
       "      <td>NaN</td>\n",
       "      <td>27/07/2017</td>\n",
       "      <td>NaN</td>\n",
       "      <td>NaN</td>\n",
       "      <td>NaN</td>\n",
       "      <td>NaN</td>\n",
       "      <td>Rodovias</td>\n",
       "      <td>Infraestrutura Logística</td>\n",
       "      <td>concluido</td>\n",
       "    </tr>\n",
       "    <tr>\n",
       "      <th>146</th>\n",
       "      <td>7939</td>\n",
       "      <td>1000</td>\n",
       "      <td>BR-242/BA - Adequação da Travessia de Luís Eduardo Magalhães - BA</td>\n",
       "      <td>6.320000e+07</td>\n",
       "      <td>BA</td>\n",
       "      <td>LUÍS EDUARDO MAGALHÃES/BA</td>\n",
       "      <td>DNIT</td>\n",
       "      <td>Ministério dos Transportes, Portos e Aviação Civil</td>\n",
       "      <td>31/12/2018</td>\n",
       "      <td>NaN</td>\n",
       "      <td>01/01/2017</td>\n",
       "      <td>NaN</td>\n",
       "      <td>NaN</td>\n",
       "      <td>NaN</td>\n",
       "      <td>NaN</td>\n",
       "      <td>Rodovias</td>\n",
       "      <td>Infraestrutura Logística</td>\n",
       "      <td>concluido</td>\n",
       "    </tr>\n",
       "    <tr>\n",
       "      <th>147</th>\n",
       "      <td>7941</td>\n",
       "      <td>1000</td>\n",
       "      <td>BR-407/BA - Adequação da Travessia de Juazeiro - BA</td>\n",
       "      <td>2.331499e+08</td>\n",
       "      <td>BA</td>\n",
       "      <td>JUAZEIRO/BA</td>\n",
       "      <td>DNIT</td>\n",
       "      <td>Ministério dos Transportes, Portos e Aviação Civil</td>\n",
       "      <td>31/12/2018</td>\n",
       "      <td>NaN</td>\n",
       "      <td>NaN</td>\n",
       "      <td>NaN</td>\n",
       "      <td>NaN</td>\n",
       "      <td>NaN</td>\n",
       "      <td>NaN</td>\n",
       "      <td>Rodovias</td>\n",
       "      <td>Infraestrutura Logística</td>\n",
       "      <td>em_obras</td>\n",
       "    </tr>\n",
       "    <tr>\n",
       "      <th>148</th>\n",
       "      <td>7944</td>\n",
       "      <td>1000</td>\n",
       "      <td>BR-116/BA - Adequação da Divisa PE/BA à Feira de Santana - BA</td>\n",
       "      <td>1.402350e+09</td>\n",
       "      <td>BA</td>\n",
       "      <td>ABARÉ/BA, ARACI/BA, CANUDOS/BA, CHORROCHÓ/BA, EUCLIDES DA CUNHA/BA, FEIRA DE SANTANA/BA, QUIJINGUE/BA, SANTA BÁRBARA/BA, SERRINHA/BA, TEOFILÂNDIA/BA, TUCANO/BA</td>\n",
       "      <td>DNIT</td>\n",
       "      <td>Ministério dos Transportes, Portos e Aviação Civil</td>\n",
       "      <td>31/12/2018</td>\n",
       "      <td>NaN</td>\n",
       "      <td>NaN</td>\n",
       "      <td>NaN</td>\n",
       "      <td>NaN</td>\n",
       "      <td>NaN</td>\n",
       "      <td>NaN</td>\n",
       "      <td>Rodovias</td>\n",
       "      <td>Infraestrutura Logística</td>\n",
       "      <td>em_obras</td>\n",
       "    </tr>\n",
       "    <tr>\n",
       "      <th>173</th>\n",
       "      <td>8054</td>\n",
       "      <td>6002</td>\n",
       "      <td>Estudos do Canal do Xingó - SE - BA SE</td>\n",
       "      <td>2.397000e+07</td>\n",
       "      <td>BA SE</td>\n",
       "      <td>CANINDÉ DE SÃO FRANCISCO/SE, MONTE ALEGRE DE SERGIPE/SE, NOSSA SENHORA DA GLÓRIA/SE, PAULO AFONSO/BA, POÇO REDONDO/SE, PORTO DA FOLHA/SE, SANTA BRÍGIDA/BA</td>\n",
       "      <td>Codevasf</td>\n",
       "      <td>Ministério da Integração Nacional</td>\n",
       "      <td>31/12/2018</td>\n",
       "      <td>NaN</td>\n",
       "      <td>NaN</td>\n",
       "      <td>NaN</td>\n",
       "      <td>NaN</td>\n",
       "      <td>NaN</td>\n",
       "      <td>NaN</td>\n",
       "      <td>Recursos Hídricos</td>\n",
       "      <td>Infraestrutura Social e Urbana</td>\n",
       "      <td>em_obras</td>\n",
       "    </tr>\n",
       "    <tr>\n",
       "      <th>174</th>\n",
       "      <td>8058</td>\n",
       "      <td>6002</td>\n",
       "      <td>Estudos do Canal de Integração do Sertão Baiano - Eixo Sul - BA</td>\n",
       "      <td>2.573840e+07</td>\n",
       "      <td>BA</td>\n",
       "      <td>ACAJUTIBA/BA, ANDORINHA/BA, ANGUERA/BA, ANTÔNIO GONÇALVES/BA, APORÁ/BA, ARACI/BA, BANZAÊ/BA, BARROCAS/BA, BIRITINGA/BA, CAÉM/BA, CALDEIRÃO GRANDE/BA, CAMPO FORMOSO/BA, CANDEAL/BA, CANSANÇÃO/BA, CAPELA DO ALTO ALEGRE/BA, CAPIM GROSSO/BA, CIPÓ/BA, CONCEIÇÃO DO COITÉ/BA, CONDE/BA, CRISÓPOLIS/BA, ESPLANADA/BA, EUCLIDES DA CUNHA/BA, FEIRA DE SANTANA/BA, FILADÉLFIA/BA, GAVIÃO/BA, HELIÓPOLIS/BA, ICHU/BA, ITAPICURU/BA, ITIÚBA/BA, JACOBINA/BA, JAGUARARI/BA, JUAZEIRO/BA, LAMARÃO/BA, MAIRI/BA, MIGUEL CALMON/BA, MIRANGABA/BA, MONTE SANTO/BA, MORRO DO CHAPÉU/BA, MUNDO NOVO/BA, NORDESTINA/BA, NOVA FÁTIMA/BA, NOVA SOURE/BA, OLINDINA/BA, OUROLÂNDIA/BA, PÉ DE SERRA/BA, PINDOBAÇU/BA, PINTADAS/BA, PIRITIBA/BA, PONTO NOVO/BA, QUEIMADAS/BA, QUIJINGUE/BA, QUIXABEIRA/BA, RETIROLÂNDIA/BA, RIACHÃO DO JACUÍPE/BA, RIBEIRA DO AMPARO/BA, RIBEIRA DO POMBAL/BA, RIO REAL/BA, SANTA BÁRBARA/BA, SANTALUZ/BA, SÃO DOMINGOS/BA, SÃO GONÇALO DOS CAMPOS/BA, SÃO JOSÉ DO JACUÍPE/BA, SAÚDE/BA, SENHOR DO BONFIM/BA, SERRA PRETA/BA, SERRINHA/BA, SERROLÂNDIA/BA, SOBRADINHO/BA, TANQUINHO/BA, TAPIRAMUTÁ/BA, TEOFILÂNDIA/BA, TUCANO/BA, UMBURANAS/BA, VALENTE/BA, VÁRZEA DA ROÇA/BA, VÁRZEA DO POÇO/BA, VÁRZEA NOVA/BA</td>\n",
       "      <td>Codevasf</td>\n",
       "      <td>Ministério da Integração Nacional</td>\n",
       "      <td>31/12/2018</td>\n",
       "      <td>NaN</td>\n",
       "      <td>30/09/2016</td>\n",
       "      <td>NaN</td>\n",
       "      <td>NaN</td>\n",
       "      <td>NaN</td>\n",
       "      <td>NaN</td>\n",
       "      <td>Recursos Hídricos</td>\n",
       "      <td>Infraestrutura Social e Urbana</td>\n",
       "      <td>concluido</td>\n",
       "    </tr>\n",
       "    <tr>\n",
       "      <th>179</th>\n",
       "      <td>8064</td>\n",
       "      <td>6002</td>\n",
       "      <td>Implantação do Perímetro de Irrigação Salitre - BA (2ª Etapa) - BA</td>\n",
       "      <td>2.387822e+08</td>\n",
       "      <td>BA</td>\n",
       "      <td>JUAZEIRO/BA</td>\n",
       "      <td>Codevasf</td>\n",
       "      <td>Ministério da Integração Nacional</td>\n",
       "      <td>31/12/2018</td>\n",
       "      <td>NaN</td>\n",
       "      <td>NaN</td>\n",
       "      <td>NaN</td>\n",
       "      <td>NaN</td>\n",
       "      <td>NaN</td>\n",
       "      <td>NaN</td>\n",
       "      <td>Recursos Hídricos</td>\n",
       "      <td>Infraestrutura Social e Urbana</td>\n",
       "      <td>em_obras</td>\n",
       "    </tr>\n",
       "    <tr>\n",
       "      <th>182</th>\n",
       "      <td>8071</td>\n",
       "      <td>6002</td>\n",
       "      <td>Implantação do Perímetro de Irrigação Baixio de Irecê - BA - BA</td>\n",
       "      <td>4.481743e+08</td>\n",
       "      <td>BA</td>\n",
       "      <td>ITAGUAÇU DA BAHIA/BA, XIQUE-XIQUE/BA</td>\n",
       "      <td>Codevasf</td>\n",
       "      <td>Ministério da Integração Nacional</td>\n",
       "      <td>31/12/2018</td>\n",
       "      <td>NaN</td>\n",
       "      <td>NaN</td>\n",
       "      <td>11°0'42.840000\"S</td>\n",
       "      <td>42°23'55.680000\"O</td>\n",
       "      <td>NaN</td>\n",
       "      <td>NaN</td>\n",
       "      <td>Recursos Hídricos</td>\n",
       "      <td>Infraestrutura Social e Urbana</td>\n",
       "      <td>em_obras</td>\n",
       "    </tr>\n",
       "    <tr>\n",
       "      <th>192</th>\n",
       "      <td>8110</td>\n",
       "      <td>1004</td>\n",
       "      <td>Aeroporto Salvador - Reforma e Adequação do Terminal de Passageiros</td>\n",
       "      <td>1.288424e+08</td>\n",
       "      <td>BA</td>\n",
       "      <td>SALVADOR/BA</td>\n",
       "      <td>Infraero</td>\n",
       "      <td>Ministério dos Transportes, Portos e Aviação Civil</td>\n",
       "      <td>31/12/2018</td>\n",
       "      <td>NaN</td>\n",
       "      <td>NaN</td>\n",
       "      <td>12°54'33.480000\"S</td>\n",
       "      <td>38°19'49.440000\"O</td>\n",
       "      <td>NaN</td>\n",
       "      <td>NaN</td>\n",
       "      <td>Aeroporto</td>\n",
       "      <td>Infraestrutura Logística</td>\n",
       "      <td>em_obras</td>\n",
       "    </tr>\n",
       "    <tr>\n",
       "      <th>196</th>\n",
       "      <td>8195</td>\n",
       "      <td>6002</td>\n",
       "      <td>Modernização da Infraestrutura do Perímetro de Irrigação Maniçoba - BA - BA</td>\n",
       "      <td>1.243426e+07</td>\n",
       "      <td>BA</td>\n",
       "      <td>JUAZEIRO/BA</td>\n",
       "      <td>Codevasf</td>\n",
       "      <td>Ministério da Integração Nacional</td>\n",
       "      <td>31/12/2018</td>\n",
       "      <td>NaN</td>\n",
       "      <td>NaN</td>\n",
       "      <td>9°24'59.888340\"S</td>\n",
       "      <td>40°30'13.040712\"O</td>\n",
       "      <td>NaN</td>\n",
       "      <td>NaN</td>\n",
       "      <td>Recursos Hídricos</td>\n",
       "      <td>Infraestrutura Social e Urbana</td>\n",
       "      <td>em_obras</td>\n",
       "    </tr>\n",
       "    <tr>\n",
       "      <th>215</th>\n",
       "      <td>8272</td>\n",
       "      <td>1002</td>\n",
       "      <td>Porto de Salvador (BA) - Ampliação do Quebra-Mar - BA</td>\n",
       "      <td>1.014700e+08</td>\n",
       "      <td>BA</td>\n",
       "      <td>SALVADOR/BA</td>\n",
       "      <td>Companhia Docas do Estado da Bahia</td>\n",
       "      <td>Ministério dos Transportes, Portos e Aviação Civil</td>\n",
       "      <td>31/12/2018</td>\n",
       "      <td>NaN</td>\n",
       "      <td>NaN</td>\n",
       "      <td>12°58'8.040000\"S</td>\n",
       "      <td>38°30'41.400000\"O</td>\n",
       "      <td>NaN</td>\n",
       "      <td>NaN</td>\n",
       "      <td>Porto</td>\n",
       "      <td>Infraestrutura Logística</td>\n",
       "      <td>em_obras</td>\n",
       "    </tr>\n",
       "    <tr>\n",
       "      <th>221</th>\n",
       "      <td>8357</td>\n",
       "      <td>1000</td>\n",
       "      <td>BR-415/BA - Duplicação de Ilhéus à Itabuna - BA</td>\n",
       "      <td>1.259800e+08</td>\n",
       "      <td>BA</td>\n",
       "      <td>ILHÉUS/BA, ITABUNA/BA</td>\n",
       "      <td>DNIT</td>\n",
       "      <td>Ministério dos Transportes, Portos e Aviação Civil</td>\n",
       "      <td>31/12/2018</td>\n",
       "      <td>NaN</td>\n",
       "      <td>NaN</td>\n",
       "      <td>NaN</td>\n",
       "      <td>NaN</td>\n",
       "      <td>NaN</td>\n",
       "      <td>NaN</td>\n",
       "      <td>Rodovias</td>\n",
       "      <td>Infraestrutura Logística</td>\n",
       "      <td>em_obras</td>\n",
       "    </tr>\n",
       "    <tr>\n",
       "      <th>223</th>\n",
       "      <td>8375</td>\n",
       "      <td>6002</td>\n",
       "      <td>Modernização da Infraestrutura do Perímetro de Irrigação Curaçá - BA - BA</td>\n",
       "      <td>2.368103e+07</td>\n",
       "      <td>BA</td>\n",
       "      <td>JUAZEIRO/BA</td>\n",
       "      <td>Codevasf</td>\n",
       "      <td>Ministério da Integração Nacional</td>\n",
       "      <td>31/12/2018</td>\n",
       "      <td>NaN</td>\n",
       "      <td>NaN</td>\n",
       "      <td>9°24'59.888340\"S</td>\n",
       "      <td>40°30'12.680712\"O</td>\n",
       "      <td>NaN</td>\n",
       "      <td>NaN</td>\n",
       "      <td>Recursos Hídricos</td>\n",
       "      <td>Infraestrutura Social e Urbana</td>\n",
       "      <td>em_obras</td>\n",
       "    </tr>\n",
       "    <tr>\n",
       "      <th>224</th>\n",
       "      <td>8379</td>\n",
       "      <td>6002</td>\n",
       "      <td>Modernização da Infraestrutura do Perímetro de Irrigação Mirorós - BA - BA</td>\n",
       "      <td>2.958619e+07</td>\n",
       "      <td>BA</td>\n",
       "      <td>GENTIO DO OURO/BA, IBIPEBA/BA</td>\n",
       "      <td>Codevasf</td>\n",
       "      <td>Ministério da Integração Nacional</td>\n",
       "      <td>31/12/2018</td>\n",
       "      <td>NaN</td>\n",
       "      <td>NaN</td>\n",
       "      <td>11°25'54.981624\"S</td>\n",
       "      <td>42°30'58.783788\"O</td>\n",
       "      <td>NaN</td>\n",
       "      <td>NaN</td>\n",
       "      <td>Recursos Hídricos</td>\n",
       "      <td>Infraestrutura Social e Urbana</td>\n",
       "      <td>em_obras</td>\n",
       "    </tr>\n",
       "    <tr>\n",
       "      <th>255</th>\n",
       "      <td>8761</td>\n",
       "      <td>6002</td>\n",
       "      <td>Barragem Inhobim - Projeto - BA</td>\n",
       "      <td>3.214004e+06</td>\n",
       "      <td>BA</td>\n",
       "      <td>VITÓRIA DA CONQUISTA/BA</td>\n",
       "      <td>Município</td>\n",
       "      <td>Ministério da Integração Nacional</td>\n",
       "      <td>31/12/2018</td>\n",
       "      <td>31/12/2012</td>\n",
       "      <td>07/06/2017</td>\n",
       "      <td>14°51'42.916284\"S</td>\n",
       "      <td>40°50'40.347636\"O</td>\n",
       "      <td>NaN</td>\n",
       "      <td>NaN</td>\n",
       "      <td>Recursos Hídricos</td>\n",
       "      <td>Infraestrutura Social e Urbana</td>\n",
       "      <td>concluido</td>\n",
       "    </tr>\n",
       "    <tr>\n",
       "      <th>266</th>\n",
       "      <td>8796</td>\n",
       "      <td>1002</td>\n",
       "      <td>SISTEMA DE GERENCIAMENTO DE TRÁFEGO MARÍTIMO  VTMIS  FASE 1 - BA ES RJ SP</td>\n",
       "      <td>2.660000e+08</td>\n",
       "      <td>BA ES RJ SP</td>\n",
       "      <td>CANDEIAS/BA, ITAGUAÍ/RJ, MADRE DE DEUS/BA, RIO DE JANEIRO/RJ, SALVADOR/BA, SANTOS/SP, VITÓRIA/ES</td>\n",
       "      <td>Companhia Docas do Estado de São Paulo - CODESP; SEP/PR</td>\n",
       "      <td>Ministério dos Transportes, Portos e Aviação Civil</td>\n",
       "      <td>31/12/2018</td>\n",
       "      <td>NaN</td>\n",
       "      <td>NaN</td>\n",
       "      <td>12°58'29.470584\"S</td>\n",
       "      <td>38°30'53.429832\"O</td>\n",
       "      <td>NaN</td>\n",
       "      <td>NaN</td>\n",
       "      <td>Porto</td>\n",
       "      <td>Infraestrutura Logística</td>\n",
       "      <td>em_obras</td>\n",
       "    </tr>\n",
       "    <tr>\n",
       "      <th>267</th>\n",
       "      <td>8797</td>\n",
       "      <td>1002</td>\n",
       "      <td>Cadeia Logística Portuária Inteligente (Portlog) - BA CE ES MA PA PE PR RJ RS SP</td>\n",
       "      <td>1.739500e+08</td>\n",
       "      <td>BA CE ES MA PA PE PR RJ RS SP</td>\n",
       "      <td>BELÉM/PA, CABO DE SANTO AGOSTINHO/PE, FORTALEZA/CE, ITAGUAÍ/RJ, PARANAGUÁ/PR, RIO DE JANEIRO/RJ, RIO GRANDE/RS, SALVADOR/BA, SANTOS/SP, SÃO GONÇALO DO AMARANTE/CE, SÃO LUÍS/MA, VITÓRIA/ES</td>\n",
       "      <td>Serviço Federal de Processamento de Dados - SERPRO; UFSC</td>\n",
       "      <td>Ministério dos Transportes, Portos e Aviação Civil</td>\n",
       "      <td>31/12/2018</td>\n",
       "      <td>NaN</td>\n",
       "      <td>NaN</td>\n",
       "      <td>2°31'53.878872\"S</td>\n",
       "      <td>44°18'19.484316\"O</td>\n",
       "      <td>NaN</td>\n",
       "      <td>NaN</td>\n",
       "      <td>Porto</td>\n",
       "      <td>Infraestrutura Logística</td>\n",
       "      <td>em_obras</td>\n",
       "    </tr>\n",
       "    <tr>\n",
       "      <th>269</th>\n",
       "      <td>8800</td>\n",
       "      <td>1002</td>\n",
       "      <td>Programa de Conformidade do Gerenciamento de Resíduos Sólidos e Efluentes Líquidos dos Portos Marítimos Brasileiros - AL BA CE ES MA PA PB PE PR RJ RN RS SC SP</td>\n",
       "      <td>1.270900e+08</td>\n",
       "      <td>AL BA CE ES MA PA PB PE PR RJ RN RS SC SP</td>\n",
       "      <td>BARCARENA/PA, BELÉM/PA, CABEDELO/PB, CANDEIAS/BA, FORTALEZA/CE, ILHÉUS/BA, IMBITUBA/SC, IPOJUCA/PE, ITAGUAÍ/RJ, ITAJAÍ/SC, MACEIÓ/AL, NATAL/RN, PARANAGUÁ/PR, RECIFE/PE, RIO DE JANEIRO/RJ, RIO GRANDE/RS, SALVADOR/BA, SANTOS/SP, SÃO FRANCISCO DO SUL/SC, SÃO LUÍS/MA, SÃO SEBASTIÃO/SP, VITÓRIA/ES</td>\n",
       "      <td>Ministério dos Transportes, Portos e Aviação Civil - MTPA</td>\n",
       "      <td>Ministério dos Transportes, Portos e Aviação Civil</td>\n",
       "      <td>31/12/2018</td>\n",
       "      <td>NaN</td>\n",
       "      <td>NaN</td>\n",
       "      <td>NaN</td>\n",
       "      <td>NaN</td>\n",
       "      <td>NaN</td>\n",
       "      <td>NaN</td>\n",
       "      <td>Porto</td>\n",
       "      <td>Infraestrutura Logística</td>\n",
       "      <td>em_obras</td>\n",
       "    </tr>\n",
       "    <tr>\n",
       "      <th>295</th>\n",
       "      <td>9349</td>\n",
       "      <td>2000</td>\n",
       "      <td>Usina Eólica - Cristal - BA</td>\n",
       "      <td>1.200000e+08</td>\n",
       "      <td>BA</td>\n",
       "      <td>BONITO/BA</td>\n",
       "      <td>Enel Green Power Cristal Eolica S.A.</td>\n",
       "      <td>Ministério de Minas e Energia</td>\n",
       "      <td>31/12/2018</td>\n",
       "      <td>NaN</td>\n",
       "      <td>10/11/2017</td>\n",
       "      <td>11°48'18.399600\"S</td>\n",
       "      <td>41°24'00.000000\"O</td>\n",
       "      <td>NaN</td>\n",
       "      <td>NaN</td>\n",
       "      <td>Geração de Energia Elétrica</td>\n",
       "      <td>Infraestrutura Energética</td>\n",
       "      <td>concluido</td>\n",
       "    </tr>\n",
       "    <tr>\n",
       "      <th>303</th>\n",
       "      <td>9370</td>\n",
       "      <td>2000</td>\n",
       "      <td>Usina Eólica - Primavera - BA</td>\n",
       "      <td>1.200000e+08</td>\n",
       "      <td>BA</td>\n",
       "      <td>MORRO DO CHAPÉU/BA</td>\n",
       "      <td>Enel Green Power Primavera Eólica S.A.</td>\n",
       "      <td>Ministério de Minas e Energia</td>\n",
       "      <td>31/12/2018</td>\n",
       "      <td>NaN</td>\n",
       "      <td>10/11/2017</td>\n",
       "      <td>11°44'0.099600\"S</td>\n",
       "      <td>41°22'22.800000\"O</td>\n",
       "      <td>NaN</td>\n",
       "      <td>NaN</td>\n",
       "      <td>Geração de Energia Elétrica</td>\n",
       "      <td>Infraestrutura Energética</td>\n",
       "      <td>concluido</td>\n",
       "    </tr>\n",
       "    <tr>\n",
       "      <th>...</th>\n",
       "      <td>...</td>\n",
       "      <td>...</td>\n",
       "      <td>...</td>\n",
       "      <td>...</td>\n",
       "      <td>...</td>\n",
       "      <td>...</td>\n",
       "      <td>...</td>\n",
       "      <td>...</td>\n",
       "      <td>...</td>\n",
       "      <td>...</td>\n",
       "      <td>...</td>\n",
       "      <td>...</td>\n",
       "      <td>...</td>\n",
       "      <td>...</td>\n",
       "      <td>...</td>\n",
       "      <td>...</td>\n",
       "      <td>...</td>\n",
       "      <td>...</td>\n",
       "    </tr>\n",
       "    <tr>\n",
       "      <th>29011</th>\n",
       "      <td>96728</td>\n",
       "      <td>6002</td>\n",
       "      <td>Pavimentação de vias em MUNDO NOVO/BA - BA</td>\n",
       "      <td>NaN</td>\n",
       "      <td>BA</td>\n",
       "      <td>MUNDO NOVO/BA</td>\n",
       "      <td>Município</td>\n",
       "      <td>Ministério da Integração Nacional</td>\n",
       "      <td>31/12/2018</td>\n",
       "      <td>NaN</td>\n",
       "      <td>NaN</td>\n",
       "      <td>NaN</td>\n",
       "      <td>NaN</td>\n",
       "      <td>NaN</td>\n",
       "      <td>Valor não divulgado em razão da possibilidade de uso do Regime Diferenciado de Contratação - RDC.</td>\n",
       "      <td>Recursos Hídricos</td>\n",
       "      <td>Infraestrutura Social e Urbana</td>\n",
       "      <td>nao_iniciado</td>\n",
       "    </tr>\n",
       "    <tr>\n",
       "      <th>29013</th>\n",
       "      <td>96730</td>\n",
       "      <td>6002</td>\n",
       "      <td>Pavimentação e drenagem de vias em NORDESTINA/BA - BA</td>\n",
       "      <td>NaN</td>\n",
       "      <td>BA</td>\n",
       "      <td>NORDESTINA/BA</td>\n",
       "      <td>Município</td>\n",
       "      <td>Ministério da Integração Nacional</td>\n",
       "      <td>31/12/2018</td>\n",
       "      <td>NaN</td>\n",
       "      <td>NaN</td>\n",
       "      <td>NaN</td>\n",
       "      <td>NaN</td>\n",
       "      <td>NaN</td>\n",
       "      <td>Valor não divulgado em razão da possibilidade de uso do Regime Diferenciado de Contratação - RDC.</td>\n",
       "      <td>Recursos Hídricos</td>\n",
       "      <td>Infraestrutura Social e Urbana</td>\n",
       "      <td>nao_iniciado</td>\n",
       "    </tr>\n",
       "    <tr>\n",
       "      <th>29016</th>\n",
       "      <td>96733</td>\n",
       "      <td>6002</td>\n",
       "      <td>Pavimentação de vias em NOVA FATIMA/BA - BA</td>\n",
       "      <td>NaN</td>\n",
       "      <td>BA</td>\n",
       "      <td>NOVA FÁTIMA/BA</td>\n",
       "      <td>Município</td>\n",
       "      <td>Ministério da Integração Nacional</td>\n",
       "      <td>31/12/2018</td>\n",
       "      <td>NaN</td>\n",
       "      <td>NaN</td>\n",
       "      <td>NaN</td>\n",
       "      <td>NaN</td>\n",
       "      <td>NaN</td>\n",
       "      <td>Valor não divulgado em razão da possibilidade de uso do Regime Diferenciado de Contratação - RDC.</td>\n",
       "      <td>Recursos Hídricos</td>\n",
       "      <td>Infraestrutura Social e Urbana</td>\n",
       "      <td>nao_iniciado</td>\n",
       "    </tr>\n",
       "    <tr>\n",
       "      <th>29022</th>\n",
       "      <td>96739</td>\n",
       "      <td>6002</td>\n",
       "      <td>Recuperação de estradas vicinais em NOVO HORIZONTE/BA - BA</td>\n",
       "      <td>NaN</td>\n",
       "      <td>BA</td>\n",
       "      <td>NOVO HORIZONTE/BA</td>\n",
       "      <td>Município</td>\n",
       "      <td>Ministério da Integração Nacional</td>\n",
       "      <td>31/12/2018</td>\n",
       "      <td>NaN</td>\n",
       "      <td>NaN</td>\n",
       "      <td>NaN</td>\n",
       "      <td>NaN</td>\n",
       "      <td>NaN</td>\n",
       "      <td>Valor não divulgado em razão da possibilidade de uso do Regime Diferenciado de Contratação - RDC.</td>\n",
       "      <td>Recursos Hídricos</td>\n",
       "      <td>Infraestrutura Social e Urbana</td>\n",
       "      <td>nao_iniciado</td>\n",
       "    </tr>\n",
       "    <tr>\n",
       "      <th>29052</th>\n",
       "      <td>96769</td>\n",
       "      <td>6002</td>\n",
       "      <td>Pavimentação de vias em RETIROLANDIA/BA - BA</td>\n",
       "      <td>NaN</td>\n",
       "      <td>BA</td>\n",
       "      <td>RETIROLÂNDIA/BA</td>\n",
       "      <td>Município</td>\n",
       "      <td>Ministério da Integração Nacional</td>\n",
       "      <td>31/12/2018</td>\n",
       "      <td>NaN</td>\n",
       "      <td>NaN</td>\n",
       "      <td>NaN</td>\n",
       "      <td>NaN</td>\n",
       "      <td>NaN</td>\n",
       "      <td>Valor não divulgado em razão da possibilidade de uso do Regime Diferenciado de Contratação - RDC.</td>\n",
       "      <td>Recursos Hídricos</td>\n",
       "      <td>Infraestrutura Social e Urbana</td>\n",
       "      <td>nao_iniciado</td>\n",
       "    </tr>\n",
       "    <tr>\n",
       "      <th>29053</th>\n",
       "      <td>96770</td>\n",
       "      <td>6002</td>\n",
       "      <td>Recuperação de estradas vicinais em RIACHAO DO JACUIPE/BA - BA</td>\n",
       "      <td>NaN</td>\n",
       "      <td>BA</td>\n",
       "      <td>RIACHÃO DO JACUÍPE/BA</td>\n",
       "      <td>Município</td>\n",
       "      <td>Ministério da Integração Nacional</td>\n",
       "      <td>31/12/2018</td>\n",
       "      <td>NaN</td>\n",
       "      <td>NaN</td>\n",
       "      <td>NaN</td>\n",
       "      <td>NaN</td>\n",
       "      <td>NaN</td>\n",
       "      <td>Valor não divulgado em razão da possibilidade de uso do Regime Diferenciado de Contratação - RDC.</td>\n",
       "      <td>Recursos Hídricos</td>\n",
       "      <td>Infraestrutura Social e Urbana</td>\n",
       "      <td>nao_iniciado</td>\n",
       "    </tr>\n",
       "    <tr>\n",
       "      <th>29056</th>\n",
       "      <td>96773</td>\n",
       "      <td>6002</td>\n",
       "      <td>Pavimentação de vias em RUY BARBOSA/BA - BA</td>\n",
       "      <td>NaN</td>\n",
       "      <td>BA</td>\n",
       "      <td>RUY BARBOSA/BA</td>\n",
       "      <td>Município</td>\n",
       "      <td>Ministério da Integração Nacional</td>\n",
       "      <td>31/12/2018</td>\n",
       "      <td>NaN</td>\n",
       "      <td>NaN</td>\n",
       "      <td>NaN</td>\n",
       "      <td>NaN</td>\n",
       "      <td>NaN</td>\n",
       "      <td>Valor não divulgado em razão da possibilidade de uso do Regime Diferenciado de Contratação - RDC.</td>\n",
       "      <td>Recursos Hídricos</td>\n",
       "      <td>Infraestrutura Social e Urbana</td>\n",
       "      <td>nao_iniciado</td>\n",
       "    </tr>\n",
       "    <tr>\n",
       "      <th>29067</th>\n",
       "      <td>96784</td>\n",
       "      <td>6002</td>\n",
       "      <td>Pavimentação de vias em SANTANOPOLIS/BA - BA</td>\n",
       "      <td>NaN</td>\n",
       "      <td>BA</td>\n",
       "      <td>SANTANÓPOLIS/BA</td>\n",
       "      <td>Município</td>\n",
       "      <td>Ministério da Integração Nacional</td>\n",
       "      <td>31/12/2018</td>\n",
       "      <td>NaN</td>\n",
       "      <td>NaN</td>\n",
       "      <td>NaN</td>\n",
       "      <td>NaN</td>\n",
       "      <td>NaN</td>\n",
       "      <td>Valor não divulgado em razão da possibilidade de uso do Regime Diferenciado de Contratação - RDC.</td>\n",
       "      <td>Recursos Hídricos</td>\n",
       "      <td>Infraestrutura Social e Urbana</td>\n",
       "      <td>nao_iniciado</td>\n",
       "    </tr>\n",
       "    <tr>\n",
       "      <th>29077</th>\n",
       "      <td>96794</td>\n",
       "      <td>6002</td>\n",
       "      <td>Pavimentação de vias em SERRINHA/BA - BA</td>\n",
       "      <td>NaN</td>\n",
       "      <td>BA</td>\n",
       "      <td>SERRINHA/BA</td>\n",
       "      <td>Município</td>\n",
       "      <td>Ministério da Integração Nacional</td>\n",
       "      <td>31/12/2018</td>\n",
       "      <td>NaN</td>\n",
       "      <td>NaN</td>\n",
       "      <td>NaN</td>\n",
       "      <td>NaN</td>\n",
       "      <td>NaN</td>\n",
       "      <td>Valor não divulgado em razão da possibilidade de uso do Regime Diferenciado de Contratação - RDC.</td>\n",
       "      <td>Recursos Hídricos</td>\n",
       "      <td>Infraestrutura Social e Urbana</td>\n",
       "      <td>nao_iniciado</td>\n",
       "    </tr>\n",
       "    <tr>\n",
       "      <th>29078</th>\n",
       "      <td>96795</td>\n",
       "      <td>6002</td>\n",
       "      <td>Reforma e ampliação de mercado público em SERRINHA/BA - BA</td>\n",
       "      <td>NaN</td>\n",
       "      <td>BA</td>\n",
       "      <td>SERRINHA/BA</td>\n",
       "      <td>Município</td>\n",
       "      <td>Ministério da Integração Nacional</td>\n",
       "      <td>31/12/2018</td>\n",
       "      <td>NaN</td>\n",
       "      <td>NaN</td>\n",
       "      <td>NaN</td>\n",
       "      <td>NaN</td>\n",
       "      <td>NaN</td>\n",
       "      <td>Valor não divulgado em razão da possibilidade de uso do Regime Diferenciado de Contratação - RDC.</td>\n",
       "      <td>Recursos Hídricos</td>\n",
       "      <td>Infraestrutura Social e Urbana</td>\n",
       "      <td>nao_iniciado</td>\n",
       "    </tr>\n",
       "    <tr>\n",
       "      <th>29090</th>\n",
       "      <td>96807</td>\n",
       "      <td>6002</td>\n",
       "      <td>Pavimentação de vias em TEOFILANDIA/BA - BA</td>\n",
       "      <td>NaN</td>\n",
       "      <td>BA</td>\n",
       "      <td>TEOFILÂNDIA/BA</td>\n",
       "      <td>Município</td>\n",
       "      <td>Ministério da Integração Nacional</td>\n",
       "      <td>31/12/2018</td>\n",
       "      <td>NaN</td>\n",
       "      <td>NaN</td>\n",
       "      <td>NaN</td>\n",
       "      <td>NaN</td>\n",
       "      <td>NaN</td>\n",
       "      <td>Valor não divulgado em razão da possibilidade de uso do Regime Diferenciado de Contratação - RDC.</td>\n",
       "      <td>Recursos Hídricos</td>\n",
       "      <td>Infraestrutura Social e Urbana</td>\n",
       "      <td>nao_iniciado</td>\n",
       "    </tr>\n",
       "    <tr>\n",
       "      <th>29091</th>\n",
       "      <td>96808</td>\n",
       "      <td>6002</td>\n",
       "      <td>Pavimentação de vias em TEOLANDIA/BA - BA</td>\n",
       "      <td>NaN</td>\n",
       "      <td>BA</td>\n",
       "      <td>TEOLÂNDIA/BA</td>\n",
       "      <td>Município</td>\n",
       "      <td>Ministério da Integração Nacional</td>\n",
       "      <td>31/12/2018</td>\n",
       "      <td>NaN</td>\n",
       "      <td>NaN</td>\n",
       "      <td>NaN</td>\n",
       "      <td>NaN</td>\n",
       "      <td>NaN</td>\n",
       "      <td>Valor não divulgado em razão da possibilidade de uso do Regime Diferenciado de Contratação - RDC.</td>\n",
       "      <td>Recursos Hídricos</td>\n",
       "      <td>Infraestrutura Social e Urbana</td>\n",
       "      <td>nao_iniciado</td>\n",
       "    </tr>\n",
       "    <tr>\n",
       "      <th>29094</th>\n",
       "      <td>96811</td>\n",
       "      <td>6002</td>\n",
       "      <td>Adequação e recuperação de estradas vicinais em TREMEDAL/BA - BA</td>\n",
       "      <td>NaN</td>\n",
       "      <td>BA</td>\n",
       "      <td>TREMEDAL/BA</td>\n",
       "      <td>Município</td>\n",
       "      <td>Ministério da Integração Nacional</td>\n",
       "      <td>31/12/2018</td>\n",
       "      <td>NaN</td>\n",
       "      <td>NaN</td>\n",
       "      <td>NaN</td>\n",
       "      <td>NaN</td>\n",
       "      <td>NaN</td>\n",
       "      <td>Valor não divulgado em razão da possibilidade de uso do Regime Diferenciado de Contratação - RDC.</td>\n",
       "      <td>Recursos Hídricos</td>\n",
       "      <td>Infraestrutura Social e Urbana</td>\n",
       "      <td>nao_iniciado</td>\n",
       "    </tr>\n",
       "    <tr>\n",
       "      <th>29112</th>\n",
       "      <td>96829</td>\n",
       "      <td>6002</td>\n",
       "      <td>Pavimentação e drenagem de vias em ARATACA/BA - BA</td>\n",
       "      <td>NaN</td>\n",
       "      <td>BA</td>\n",
       "      <td>ARATACA/BA</td>\n",
       "      <td>Município</td>\n",
       "      <td>Ministério da Integração Nacional</td>\n",
       "      <td>31/12/2018</td>\n",
       "      <td>NaN</td>\n",
       "      <td>NaN</td>\n",
       "      <td>NaN</td>\n",
       "      <td>NaN</td>\n",
       "      <td>NaN</td>\n",
       "      <td>Valor não divulgado em razão da possibilidade de uso do Regime Diferenciado de Contratação - RDC.</td>\n",
       "      <td>Recursos Hídricos</td>\n",
       "      <td>Infraestrutura Social e Urbana</td>\n",
       "      <td>nao_iniciado</td>\n",
       "    </tr>\n",
       "    <tr>\n",
       "      <th>29115</th>\n",
       "      <td>96832</td>\n",
       "      <td>6002</td>\n",
       "      <td>Recuperação de estradas vicinais em BAIXA GRANDE/BA - BA</td>\n",
       "      <td>NaN</td>\n",
       "      <td>BA</td>\n",
       "      <td>BAIXA GRANDE/BA</td>\n",
       "      <td>Município</td>\n",
       "      <td>Ministério da Integração Nacional</td>\n",
       "      <td>31/12/2018</td>\n",
       "      <td>NaN</td>\n",
       "      <td>NaN</td>\n",
       "      <td>NaN</td>\n",
       "      <td>NaN</td>\n",
       "      <td>NaN</td>\n",
       "      <td>Valor não divulgado em razão da possibilidade de uso do Regime Diferenciado de Contratação - RDC.</td>\n",
       "      <td>Recursos Hídricos</td>\n",
       "      <td>Infraestrutura Social e Urbana</td>\n",
       "      <td>nao_iniciado</td>\n",
       "    </tr>\n",
       "    <tr>\n",
       "      <th>29122</th>\n",
       "      <td>96839</td>\n",
       "      <td>6002</td>\n",
       "      <td>Recuperação de estradas vicinais em BARREIRAS/BA - BA</td>\n",
       "      <td>NaN</td>\n",
       "      <td>BA</td>\n",
       "      <td>BARREIRAS/BA</td>\n",
       "      <td>Município</td>\n",
       "      <td>Ministério da Integração Nacional</td>\n",
       "      <td>31/12/2018</td>\n",
       "      <td>NaN</td>\n",
       "      <td>NaN</td>\n",
       "      <td>NaN</td>\n",
       "      <td>NaN</td>\n",
       "      <td>NaN</td>\n",
       "      <td>Valor não divulgado em razão da possibilidade de uso do Regime Diferenciado de Contratação - RDC.</td>\n",
       "      <td>Recursos Hídricos</td>\n",
       "      <td>Infraestrutura Social e Urbana</td>\n",
       "      <td>nao_iniciado</td>\n",
       "    </tr>\n",
       "    <tr>\n",
       "      <th>29123</th>\n",
       "      <td>96840</td>\n",
       "      <td>6002</td>\n",
       "      <td>Pavimentação de vias em BARRO PRETO/BA - BA</td>\n",
       "      <td>NaN</td>\n",
       "      <td>BA</td>\n",
       "      <td>BARRO PRETO/BA</td>\n",
       "      <td>Município</td>\n",
       "      <td>Ministério da Integração Nacional</td>\n",
       "      <td>31/12/2018</td>\n",
       "      <td>NaN</td>\n",
       "      <td>NaN</td>\n",
       "      <td>NaN</td>\n",
       "      <td>NaN</td>\n",
       "      <td>NaN</td>\n",
       "      <td>Valor não divulgado em razão da possibilidade de uso do Regime Diferenciado de Contratação - RDC.</td>\n",
       "      <td>Recursos Hídricos</td>\n",
       "      <td>Infraestrutura Social e Urbana</td>\n",
       "      <td>nao_iniciado</td>\n",
       "    </tr>\n",
       "    <tr>\n",
       "      <th>29133</th>\n",
       "      <td>96850</td>\n",
       "      <td>6002</td>\n",
       "      <td>Pavimentação de vias em BRUMADO/BA - BA</td>\n",
       "      <td>NaN</td>\n",
       "      <td>BA</td>\n",
       "      <td>BRUMADO/BA</td>\n",
       "      <td>Município</td>\n",
       "      <td>Ministério da Integração Nacional</td>\n",
       "      <td>31/12/2018</td>\n",
       "      <td>NaN</td>\n",
       "      <td>NaN</td>\n",
       "      <td>NaN</td>\n",
       "      <td>NaN</td>\n",
       "      <td>NaN</td>\n",
       "      <td>Valor não divulgado em razão da possibilidade de uso do Regime Diferenciado de Contratação - RDC.</td>\n",
       "      <td>Recursos Hídricos</td>\n",
       "      <td>Infraestrutura Social e Urbana</td>\n",
       "      <td>nao_iniciado</td>\n",
       "    </tr>\n",
       "    <tr>\n",
       "      <th>29139</th>\n",
       "      <td>96856</td>\n",
       "      <td>6002</td>\n",
       "      <td>Recuperação de estradas vicinais em CotegipeBA - BA</td>\n",
       "      <td>NaN</td>\n",
       "      <td>BA</td>\n",
       "      <td>COTEGIPE/BA</td>\n",
       "      <td>Município</td>\n",
       "      <td>Ministério da Integração Nacional</td>\n",
       "      <td>31/12/2018</td>\n",
       "      <td>NaN</td>\n",
       "      <td>NaN</td>\n",
       "      <td>12°1'42.950568\"S</td>\n",
       "      <td>44°15'8.914104\"O</td>\n",
       "      <td>NaN</td>\n",
       "      <td>Valor não divulgado em razão da possibilidade de uso do Regime Diferenciado de Contratação - RDC.</td>\n",
       "      <td>Recursos Hídricos</td>\n",
       "      <td>Infraestrutura Social e Urbana</td>\n",
       "      <td>nao_iniciado</td>\n",
       "    </tr>\n",
       "    <tr>\n",
       "      <th>29148</th>\n",
       "      <td>96966</td>\n",
       "      <td>1002</td>\n",
       "      <td>Dragagem de Adequação da Navegabilidade em Portos - Região Nordeste (inclui Aratu,  Ilhéus, Recife, Salvador) - BA PE</td>\n",
       "      <td>NaN</td>\n",
       "      <td>BA PE</td>\n",
       "      <td>CANDEIAS/BA, ILHÉUS/BA, RECIFE/PE, SALVADOR/BA</td>\n",
       "      <td>SEP/PR</td>\n",
       "      <td>Ministério dos Transportes, Portos e Aviação Civil</td>\n",
       "      <td>31/12/2018</td>\n",
       "      <td>NaN</td>\n",
       "      <td>NaN</td>\n",
       "      <td>NaN</td>\n",
       "      <td>NaN</td>\n",
       "      <td>NaN</td>\n",
       "      <td>Valor não divulgado em razão da possibilidade de uso do Regime Diferenciado de Contratação - RDC.</td>\n",
       "      <td>Porto</td>\n",
       "      <td>Infraestrutura Logística</td>\n",
       "      <td>nao_iniciado</td>\n",
       "    </tr>\n",
       "    <tr>\n",
       "      <th>29182</th>\n",
       "      <td>97004</td>\n",
       "      <td>1000</td>\n",
       "      <td>Manutenção de Trechos Rodoviários na Região Nordeste - BA - BA</td>\n",
       "      <td>1.850000e+09</td>\n",
       "      <td>BA</td>\n",
       "      <td>SALVADOR/BA</td>\n",
       "      <td>NaN</td>\n",
       "      <td>Ministério dos Transportes, Portos e Aviação Civil</td>\n",
       "      <td>31/12/2018</td>\n",
       "      <td>NaN</td>\n",
       "      <td>NaN</td>\n",
       "      <td>NaN</td>\n",
       "      <td>NaN</td>\n",
       "      <td>NaN</td>\n",
       "      <td>NaN</td>\n",
       "      <td>Rodovias</td>\n",
       "      <td>Infraestrutura Logística</td>\n",
       "      <td>em_obras</td>\n",
       "    </tr>\n",
       "    <tr>\n",
       "      <th>29234</th>\n",
       "      <td>97067</td>\n",
       "      <td>6002</td>\n",
       "      <td>Pavimentação de vias em Souto Soares/BA - BA</td>\n",
       "      <td>NaN</td>\n",
       "      <td>BA</td>\n",
       "      <td>SOUTO SOARES/BA</td>\n",
       "      <td>Município</td>\n",
       "      <td>Ministério da Integração Nacional</td>\n",
       "      <td>31/12/2018</td>\n",
       "      <td>NaN</td>\n",
       "      <td>NaN</td>\n",
       "      <td>12°5'33.345600\"S</td>\n",
       "      <td>41°38'39.294204\"O</td>\n",
       "      <td>NaN</td>\n",
       "      <td>Valor não divulgado em razão da possibilidade de uso do Regime Diferenciado de Contratação - RDC.</td>\n",
       "      <td>Recursos Hídricos</td>\n",
       "      <td>Infraestrutura Social e Urbana</td>\n",
       "      <td>nao_iniciado</td>\n",
       "    </tr>\n",
       "    <tr>\n",
       "      <th>29253</th>\n",
       "      <td>97086</td>\n",
       "      <td>6002</td>\n",
       "      <td>Despesas de apoio à execução e fiscalização das obras e serviços contratados ou conveniados - BA</td>\n",
       "      <td>9.992993e+04</td>\n",
       "      <td>BA</td>\n",
       "      <td>BOM JESUS DA LAPA/BA</td>\n",
       "      <td>Codevasf</td>\n",
       "      <td>Ministério da Integração Nacional</td>\n",
       "      <td>31/12/2018</td>\n",
       "      <td>NaN</td>\n",
       "      <td>NaN</td>\n",
       "      <td>13°15'18.000000\"S</td>\n",
       "      <td>43°25'4.800000\"O</td>\n",
       "      <td>NaN</td>\n",
       "      <td>NaN</td>\n",
       "      <td>Recursos Hídricos</td>\n",
       "      <td>Infraestrutura Social e Urbana</td>\n",
       "      <td>em_obras</td>\n",
       "    </tr>\n",
       "    <tr>\n",
       "      <th>29254</th>\n",
       "      <td>97087</td>\n",
       "      <td>6002</td>\n",
       "      <td>Fornecimento de maquinas, equipamentos e implementos agrícolas destinados às ações de inclusão produtiva, no Estado da Bahia - BA</td>\n",
       "      <td>3.772500e+05</td>\n",
       "      <td>BA</td>\n",
       "      <td>NaN</td>\n",
       "      <td>Codevasf</td>\n",
       "      <td>Ministério da Integração Nacional</td>\n",
       "      <td>31/12/2018</td>\n",
       "      <td>NaN</td>\n",
       "      <td>NaN</td>\n",
       "      <td>13°15'18.000000\"S</td>\n",
       "      <td>43°25'4.800000\"O</td>\n",
       "      <td>NaN</td>\n",
       "      <td>NaN</td>\n",
       "      <td>Recursos Hídricos</td>\n",
       "      <td>Infraestrutura Social e Urbana</td>\n",
       "      <td>em_obras</td>\n",
       "    </tr>\n",
       "    <tr>\n",
       "      <th>29255</th>\n",
       "      <td>97088</td>\n",
       "      <td>6002</td>\n",
       "      <td>Fornecimento de maquinas, equipamentos e implementos agrícolas destinados às ações de inclusão produtiva, no Estado da Bahia - BA</td>\n",
       "      <td>3.385000e+04</td>\n",
       "      <td>BA</td>\n",
       "      <td>NaN</td>\n",
       "      <td>Codevasf</td>\n",
       "      <td>Ministério da Integração Nacional</td>\n",
       "      <td>31/12/2018</td>\n",
       "      <td>NaN</td>\n",
       "      <td>NaN</td>\n",
       "      <td>13°15'18.000000\"S</td>\n",
       "      <td>43°25'4.800000\"O</td>\n",
       "      <td>NaN</td>\n",
       "      <td>NaN</td>\n",
       "      <td>Recursos Hídricos</td>\n",
       "      <td>Infraestrutura Social e Urbana</td>\n",
       "      <td>em_obras</td>\n",
       "    </tr>\n",
       "    <tr>\n",
       "      <th>29256</th>\n",
       "      <td>97089</td>\n",
       "      <td>6002</td>\n",
       "      <td>Fornecimento de maquinas, equipamentos e implementos agrícolas destinados às ações de inclusão produtiva, no Estado da Bahia - BA</td>\n",
       "      <td>7.250000e+04</td>\n",
       "      <td>BA</td>\n",
       "      <td>NaN</td>\n",
       "      <td>Codevasf</td>\n",
       "      <td>Ministério da Integração Nacional</td>\n",
       "      <td>31/12/2018</td>\n",
       "      <td>NaN</td>\n",
       "      <td>NaN</td>\n",
       "      <td>13°15'18.000000\"S</td>\n",
       "      <td>43°25'4.800000\"O</td>\n",
       "      <td>NaN</td>\n",
       "      <td>NaN</td>\n",
       "      <td>Recursos Hídricos</td>\n",
       "      <td>Infraestrutura Social e Urbana</td>\n",
       "      <td>em_obras</td>\n",
       "    </tr>\n",
       "    <tr>\n",
       "      <th>29257</th>\n",
       "      <td>97090</td>\n",
       "      <td>6002</td>\n",
       "      <td>Fornecimento de maquinas, equipamentos e implementos agrícolas destinados às ações de inclusão produtiva, no Estado da Bahia - BA</td>\n",
       "      <td>3.960000e+04</td>\n",
       "      <td>BA</td>\n",
       "      <td>NaN</td>\n",
       "      <td>Codevasf</td>\n",
       "      <td>Ministério da Integração Nacional</td>\n",
       "      <td>31/12/2018</td>\n",
       "      <td>NaN</td>\n",
       "      <td>05/12/2018</td>\n",
       "      <td>13°15'18.000000\"S</td>\n",
       "      <td>43°25'4.800000\"O</td>\n",
       "      <td>NaN</td>\n",
       "      <td>NaN</td>\n",
       "      <td>Recursos Hídricos</td>\n",
       "      <td>Infraestrutura Social e Urbana</td>\n",
       "      <td>concluido</td>\n",
       "    </tr>\n",
       "    <tr>\n",
       "      <th>29258</th>\n",
       "      <td>97091</td>\n",
       "      <td>6002</td>\n",
       "      <td>Fornecimento de tubulações e reservatórios para implantação de Sistema de Abastecimento de Água - SAA em diversas localidades rurais na área da 2ª Superintendência Regional, no estado da Bahia - BA</td>\n",
       "      <td>4.120500e+05</td>\n",
       "      <td>BA</td>\n",
       "      <td>NaN</td>\n",
       "      <td>Codevasf</td>\n",
       "      <td>Ministério da Integração Nacional</td>\n",
       "      <td>31/12/2018</td>\n",
       "      <td>NaN</td>\n",
       "      <td>NaN</td>\n",
       "      <td>13°15'18.000000\"S</td>\n",
       "      <td>43°25'4.800000\"O</td>\n",
       "      <td>NaN</td>\n",
       "      <td>NaN</td>\n",
       "      <td>Recursos Hídricos</td>\n",
       "      <td>Infraestrutura Social e Urbana</td>\n",
       "      <td>em_obras</td>\n",
       "    </tr>\n",
       "    <tr>\n",
       "      <th>29259</th>\n",
       "      <td>97092</td>\n",
       "      <td>6002</td>\n",
       "      <td>Fornecimento de tubulações e reservatórios para implantação de Sistema de Abastecimento de Água - SAA em diversas localidades rurais na área da 2ª Superintendência Regional, no estado da Bahia - BA</td>\n",
       "      <td>3.763470e+05</td>\n",
       "      <td>BA</td>\n",
       "      <td>NaN</td>\n",
       "      <td>Codevasf</td>\n",
       "      <td>Ministério da Integração Nacional</td>\n",
       "      <td>31/12/2018</td>\n",
       "      <td>NaN</td>\n",
       "      <td>NaN</td>\n",
       "      <td>13°15'18.000000\"S</td>\n",
       "      <td>43°25'4.800000\"O</td>\n",
       "      <td>NaN</td>\n",
       "      <td>NaN</td>\n",
       "      <td>Recursos Hídricos</td>\n",
       "      <td>Infraestrutura Social e Urbana</td>\n",
       "      <td>em_obras</td>\n",
       "    </tr>\n",
       "    <tr>\n",
       "      <th>29260</th>\n",
       "      <td>97093</td>\n",
       "      <td>6002</td>\n",
       "      <td>Recuperação, limpeza, manutenção e desassoreamento de aguadas em comunidades rurais difusas em municípios na área da 2ª Superintendência Regional, no estado da Bahia - BA</td>\n",
       "      <td>6.884030e+05</td>\n",
       "      <td>BA</td>\n",
       "      <td>NaN</td>\n",
       "      <td>Codevasf</td>\n",
       "      <td>Ministério da Integração Nacional</td>\n",
       "      <td>31/12/2018</td>\n",
       "      <td>NaN</td>\n",
       "      <td>NaN</td>\n",
       "      <td>13°15'18.000000\"S</td>\n",
       "      <td>43°25'4.800000\"O</td>\n",
       "      <td>NaN</td>\n",
       "      <td>NaN</td>\n",
       "      <td>Recursos Hídricos</td>\n",
       "      <td>Infraestrutura Social e Urbana</td>\n",
       "      <td>em_obras</td>\n",
       "    </tr>\n",
       "  </tbody>\n",
       "</table>\n",
       "<p>3322 rows × 18 columns</p>\n",
       "</div>"
      ],
      "text/plain": [
       "      idn_empreendimento id_digs  \\\n",
       "19     1567               6002     \n",
       "33     2489               1000     \n",
       "55     4508               1000     \n",
       "59     4567               2001     \n",
       "62     4878               2001     \n",
       "76     5723               1000     \n",
       "93     6006               2001     \n",
       "102    6047               1001     \n",
       "111    6118               3003     \n",
       "112    6180               1002     \n",
       "145    7938               1000     \n",
       "146    7939               1000     \n",
       "147    7941               1000     \n",
       "148    7944               1000     \n",
       "173    8054               6002     \n",
       "174    8058               6002     \n",
       "179    8064               6002     \n",
       "182    8071               6002     \n",
       "192    8110               1004     \n",
       "196    8195               6002     \n",
       "215    8272               1002     \n",
       "221    8357               1000     \n",
       "223    8375               6002     \n",
       "224    8379               6002     \n",
       "255    8761               6002     \n",
       "266    8796               1002     \n",
       "267    8797               1002     \n",
       "269    8800               1002     \n",
       "295    9349               2000     \n",
       "303    9370               2000     \n",
       "...     ...                ...     \n",
       "29011  96728              6002     \n",
       "29013  96730              6002     \n",
       "29016  96733              6002     \n",
       "29022  96739              6002     \n",
       "29052  96769              6002     \n",
       "29053  96770              6002     \n",
       "29056  96773              6002     \n",
       "29067  96784              6002     \n",
       "29077  96794              6002     \n",
       "29078  96795              6002     \n",
       "29090  96807              6002     \n",
       "29091  96808              6002     \n",
       "29094  96811              6002     \n",
       "29112  96829              6002     \n",
       "29115  96832              6002     \n",
       "29122  96839              6002     \n",
       "29123  96840              6002     \n",
       "29133  96850              6002     \n",
       "29139  96856              6002     \n",
       "29148  96966              1002     \n",
       "29182  97004              1000     \n",
       "29234  97067              6002     \n",
       "29253  97086              6002     \n",
       "29254  97087              6002     \n",
       "29255  97088              6002     \n",
       "29256  97089              6002     \n",
       "29257  97090              6002     \n",
       "29258  97091              6002     \n",
       "29259  97092              6002     \n",
       "29260  97093              6002     \n",
       "\n",
       "                                                                                                                                                                                                      titulo  \\\n",
       "19     Sistema Adutor de Jacobina - BA                                                                                                                                                                         \n",
       "33     BR-101/BA - Duplicação da Divisa SE/BA à Feira de Santana - BA                                                                                                                                          \n",
       "55     BR-135/BA - Construção de São Desidério à Divisa BA/MG - BA                                                                                                                                             \n",
       "59     LT 230 kV Eunápolis - Teixeira de Freitas II, C1 - BA                                                                                                                                                   \n",
       "62     SE Pólo 230/69 kV - BA                                                                                                                                                                                  \n",
       "76     BR-418/BA - Construção Caravelas - Entr. BR-101/BA - BA                                                                                                                                                 \n",
       "93     LT 230 kV Eunápolis - Teixeira de Freitas II, C2 - BA                                                                                                                                                   \n",
       "102    Trecho da Ferrovia de Integração Oeste Leste - Construção Ilhéus/BA - Caetité/BA - BA                                                                                                                   \n",
       "111    Metrô de Salvador - Linha 1 - Trecho 2 - Acesso Norte - Pirajá                                                                                                                                          \n",
       "112    Porto Sem Papel - Fase 2 - Concentrador de Dados e Portal de Informações Portuárias - AL AM AP BA CE ES MA PA PB PE PR RJ RN RS SC SP                                                                   \n",
       "145    BR-242/BA - Construção do Entr BA-460 à Divisa BA/TO - BA                                                                                                                                               \n",
       "146    BR-242/BA - Adequação da Travessia de Luís Eduardo Magalhães - BA                                                                                                                                       \n",
       "147    BR-407/BA - Adequação da Travessia de Juazeiro - BA                                                                                                                                                     \n",
       "148    BR-116/BA - Adequação da Divisa PE/BA à Feira de Santana - BA                                                                                                                                           \n",
       "173    Estudos do Canal do Xingó - SE - BA SE                                                                                                                                                                  \n",
       "174    Estudos do Canal de Integração do Sertão Baiano - Eixo Sul - BA                                                                                                                                         \n",
       "179    Implantação do Perímetro de Irrigação Salitre - BA (2ª Etapa) - BA                                                                                                                                      \n",
       "182    Implantação do Perímetro de Irrigação Baixio de Irecê - BA - BA                                                                                                                                         \n",
       "192    Aeroporto Salvador - Reforma e Adequação do Terminal de Passageiros                                                                                                                                     \n",
       "196    Modernização da Infraestrutura do Perímetro de Irrigação Maniçoba - BA - BA                                                                                                                             \n",
       "215    Porto de Salvador (BA) - Ampliação do Quebra-Mar - BA                                                                                                                                                   \n",
       "221    BR-415/BA - Duplicação de Ilhéus à Itabuna - BA                                                                                                                                                         \n",
       "223    Modernização da Infraestrutura do Perímetro de Irrigação Curaçá - BA - BA                                                                                                                               \n",
       "224    Modernização da Infraestrutura do Perímetro de Irrigação Mirorós - BA - BA                                                                                                                              \n",
       "255    Barragem Inhobim - Projeto - BA                                                                                                                                                                         \n",
       "266    SISTEMA DE GERENCIAMENTO DE TRÁFEGO MARÍTIMO  VTMIS  FASE 1 - BA ES RJ SP                                                                                                                             \n",
       "267    Cadeia Logística Portuária Inteligente (Portlog) - BA CE ES MA PA PE PR RJ RS SP                                                                                                                        \n",
       "269    Programa de Conformidade do Gerenciamento de Resíduos Sólidos e Efluentes Líquidos dos Portos Marítimos Brasileiros - AL BA CE ES MA PA PB PE PR RJ RN RS SC SP                                         \n",
       "295    Usina Eólica - Cristal - BA                                                                                                                                                                             \n",
       "303    Usina Eólica - Primavera - BA                                                                                                                                                                           \n",
       "...                              ...                                                                                                                                                                           \n",
       "29011  Pavimentação de vias em MUNDO NOVO/BA - BA                                                                                                                                                              \n",
       "29013  Pavimentação e drenagem de vias em NORDESTINA/BA - BA                                                                                                                                                   \n",
       "29016  Pavimentação de vias em NOVA FATIMA/BA - BA                                                                                                                                                             \n",
       "29022  Recuperação de estradas vicinais em NOVO HORIZONTE/BA - BA                                                                                                                                              \n",
       "29052  Pavimentação de vias em RETIROLANDIA/BA - BA                                                                                                                                                            \n",
       "29053  Recuperação de estradas vicinais em RIACHAO DO JACUIPE/BA - BA                                                                                                                                          \n",
       "29056  Pavimentação de vias em RUY BARBOSA/BA - BA                                                                                                                                                             \n",
       "29067  Pavimentação de vias em SANTANOPOLIS/BA - BA                                                                                                                                                            \n",
       "29077  Pavimentação de vias em SERRINHA/BA - BA                                                                                                                                                                \n",
       "29078  Reforma e ampliação de mercado público em SERRINHA/BA - BA                                                                                                                                              \n",
       "29090  Pavimentação de vias em TEOFILANDIA/BA - BA                                                                                                                                                             \n",
       "29091  Pavimentação de vias em TEOLANDIA/BA - BA                                                                                                                                                               \n",
       "29094  Adequação e recuperação de estradas vicinais em TREMEDAL/BA - BA                                                                                                                                        \n",
       "29112  Pavimentação e drenagem de vias em ARATACA/BA - BA                                                                                                                                                      \n",
       "29115  Recuperação de estradas vicinais em BAIXA GRANDE/BA - BA                                                                                                                                                \n",
       "29122  Recuperação de estradas vicinais em BARREIRAS/BA - BA                                                                                                                                                   \n",
       "29123  Pavimentação de vias em BARRO PRETO/BA - BA                                                                                                                                                             \n",
       "29133  Pavimentação de vias em BRUMADO/BA - BA                                                                                                                                                                 \n",
       "29139  Recuperação de estradas vicinais em CotegipeBA - BA                                                                                                                                                     \n",
       "29148  Dragagem de Adequação da Navegabilidade em Portos - Região Nordeste (inclui Aratu,  Ilhéus, Recife, Salvador) - BA PE                                                                                   \n",
       "29182  Manutenção de Trechos Rodoviários na Região Nordeste - BA - BA                                                                                                                                          \n",
       "29234  Pavimentação de vias em Souto Soares/BA - BA                                                                                                                                                            \n",
       "29253  Despesas de apoio à execução e fiscalização das obras e serviços contratados ou conveniados - BA                                                                                                        \n",
       "29254  Fornecimento de maquinas, equipamentos e implementos agrícolas destinados às ações de inclusão produtiva, no Estado da Bahia - BA                                                                       \n",
       "29255  Fornecimento de maquinas, equipamentos e implementos agrícolas destinados às ações de inclusão produtiva, no Estado da Bahia - BA                                                                       \n",
       "29256  Fornecimento de maquinas, equipamentos e implementos agrícolas destinados às ações de inclusão produtiva, no Estado da Bahia - BA                                                                       \n",
       "29257  Fornecimento de maquinas, equipamentos e implementos agrícolas destinados às ações de inclusão produtiva, no Estado da Bahia - BA                                                                       \n",
       "29258  Fornecimento de tubulações e reservatórios para implantação de Sistema de Abastecimento de Água - SAA em diversas localidades rurais na área da 2ª Superintendência Regional, no estado da Bahia - BA   \n",
       "29259  Fornecimento de tubulações e reservatórios para implantação de Sistema de Abastecimento de Água - SAA em diversas localidades rurais na área da 2ª Superintendência Regional, no estado da Bahia - BA   \n",
       "29260  Recuperação, limpeza, manutenção e desassoreamento de aguadas em comunidades rurais difusas em municípios na área da 2ª Superintendência Regional, no estado da Bahia - BA                              \n",
       "\n",
       "       investimento_total                                           sig_uf  \\\n",
       "19     3.426000e+07        BA                                                \n",
       "33     1.166702e+09        BA                                                \n",
       "55     9.457615e+08        BA                                                \n",
       "59     6.751000e+07        BA                                                \n",
       "62     3.269000e+07        BA                                                \n",
       "76     1.186200e+08        BA                                                \n",
       "93     4.500000e+07        BA                                                \n",
       "102    4.602700e+09        BA                                                \n",
       "111    9.657347e+08        BA                                                \n",
       "112    1.641500e+08        AL AM AP BA CE ES MA PA PB PE PR RJ RN RS SC SP   \n",
       "145    1.090878e+08        BA                                                \n",
       "146    6.320000e+07        BA                                                \n",
       "147    2.331499e+08        BA                                                \n",
       "148    1.402350e+09        BA                                                \n",
       "173    2.397000e+07        BA SE                                             \n",
       "174    2.573840e+07        BA                                                \n",
       "179    2.387822e+08        BA                                                \n",
       "182    4.481743e+08        BA                                                \n",
       "192    1.288424e+08        BA                                                \n",
       "196    1.243426e+07        BA                                                \n",
       "215    1.014700e+08        BA                                                \n",
       "221    1.259800e+08        BA                                                \n",
       "223    2.368103e+07        BA                                                \n",
       "224    2.958619e+07        BA                                                \n",
       "255    3.214004e+06        BA                                                \n",
       "266    2.660000e+08        BA ES RJ SP                                       \n",
       "267    1.739500e+08        BA CE ES MA PA PE PR RJ RS SP                     \n",
       "269    1.270900e+08        AL BA CE ES MA PA PB PE PR RJ RN RS SC SP         \n",
       "295    1.200000e+08        BA                                                \n",
       "303    1.200000e+08        BA                                                \n",
       "...             ...        ..                                                \n",
       "29011 NaN                  BA                                                \n",
       "29013 NaN                  BA                                                \n",
       "29016 NaN                  BA                                                \n",
       "29022 NaN                  BA                                                \n",
       "29052 NaN                  BA                                                \n",
       "29053 NaN                  BA                                                \n",
       "29056 NaN                  BA                                                \n",
       "29067 NaN                  BA                                                \n",
       "29077 NaN                  BA                                                \n",
       "29078 NaN                  BA                                                \n",
       "29090 NaN                  BA                                                \n",
       "29091 NaN                  BA                                                \n",
       "29094 NaN                  BA                                                \n",
       "29112 NaN                  BA                                                \n",
       "29115 NaN                  BA                                                \n",
       "29122 NaN                  BA                                                \n",
       "29123 NaN                  BA                                                \n",
       "29133 NaN                  BA                                                \n",
       "29139 NaN                  BA                                                \n",
       "29148 NaN                  BA PE                                             \n",
       "29182  1.850000e+09        BA                                                \n",
       "29234 NaN                  BA                                                \n",
       "29253  9.992993e+04        BA                                                \n",
       "29254  3.772500e+05        BA                                                \n",
       "29255  3.385000e+04        BA                                                \n",
       "29256  7.250000e+04        BA                                                \n",
       "29257  3.960000e+04        BA                                                \n",
       "29258  4.120500e+05        BA                                                \n",
       "29259  3.763470e+05        BA                                                \n",
       "29260  6.884030e+05        BA                                                \n",
       "\n",
       "                                                                                                                                                                                                                                                                                                                                                                                                                                                                                                                                                                                                                                                                                                                                                                                                                                                                                                                                                                                                                                                                                                                                                                                                                     txt_municipios  \\\n",
       "19     JACOBINA/BA                                                                                                                                                                                                                                                                                                                                                                                                                                                                                                                                                                                                                                                                                                                                                                                                                                                                                                                                                                                                                                                                                                                                                                                                                    \n",
       "33     ALAGOINHAS/BA, AMÉLIA RODRIGUES/BA, ARAÇAS/BA, ENTRE RIOS/BA, ESPLANADA/BA, FEIRA DE SANTANA/BA, RIO REAL/BA, TEODORO SAMPAIO/BA                                                                                                                                                                                                                                                                                                                                                                                                                                                                                                                                                                                                                                                                                                                                                                                                                                                                                                                                                                                                                                                                                               \n",
       "55     ANGICAL/BA, BARREIRAS/BA, COCOS/BA, CORIBE/BA, CORRENTINA/BA, FEIRA DA MATA/BA, FORMOSA DO RIO PRETO/BA, JABORANDI/BA, RIACHÃO DAS NEVES/BA, SANTA RITA DE CÁSSIA/BA, SÃO DESIDÉRIO/BA                                                                                                                                                                                                                                                                                                                                                                                                                                                                                                                                                                                                                                                                                                                                                                                                                                                                                                                                                                                                                                         \n",
       "59     EUNÁPOLIS/BA, TEIXEIRA DE FREITAS/BA                                                                                                                                                                                                                                                                                                                                                                                                                                                                                                                                                                                                                                                                                                                                                                                                                                                                                                                                                                                                                                                                                                                                                                                           \n",
       "62     CAMAÇARI/BA                                                                                                                                                                                                                                                                                                                                                                                                                                                                                                                                                                                                                                                                                                                                                                                                                                                                                                                                                                                                                                                                                                                                                                                                                    \n",
       "76     ALCOBAÇA/BA, CARAVELAS/BA                                                                                                                                                                                                                                                                                                                                                                                                                                                                                                                                                                                                                                                                                                                                                                                                                                                                                                                                                                                                                                                                                                                                                                                                      \n",
       "93     EUNÁPOLIS/BA, TEIXEIRA DE FREITAS/BA                                                                                                                                                                                                                                                                                                                                                                                                                                                                                                                                                                                                                                                                                                                                                                                                                                                                                                                                                                                                                                                                                                                                                                                           \n",
       "102    BARREIRAS/BA, ILHÉUS/BA                                                                                                                                                                                                                                                                                                                                                                                                                                                                                                                                                                                                                                                                                                                                                                                                                                                                                                                                                                                                                                                                                                                                                                                                        \n",
       "111    SALVADOR/BA                                                                                                                                                                                                                                                                                                                                                                                                                                                                                                                                                                                                                                                                                                                                                                                                                                                                                                                                                                                                                                                                                                                                                                                                                    \n",
       "112    ANGRA DOS REIS/RJ, ANTONINA/PR, ARACRUZ/ES, AREIA BRANCA/RN, ARRAIAL DO CABO/RJ, BARCARENA/PA, BELÉM/PA, CABEDELO/PB, CABO DE SANTO AGOSTINHO/PE, CANDEIAS/BA, FORTALEZA/CE, ILHÉUS/BA, IMBITUBA/SC, ITAGUAÍ/RJ, ITAJAÍ/SC, LAGUNA/SC, MACAPÁ/AP, MACEIÓ/AL, MANAUS/AM, NATAL/RN, NITERÓI/RJ, PARANAGUÁ/PR, PELOTAS/RS, PORTO ALEGRE/RS, RECIFE/PE, RIO GRANDE/RS, SALVADOR/BA, SANTARÉM/PA, SÃO FRANCISCO DO SUL/SC, SÃO GONÇALO DO AMARANTE/CE, SÃO LUÍS/MA, SÃO SEBASTIÃO/SP                                                                                                                                                                                                                                                                                                                                                                                                                                                                                                                                                                                                                                                                                                                                                \n",
       "145    BARREIRAS/BA                                                                                                                                                                                                                                                                                                                                                                                                                                                                                                                                                                                                                                                                                                                                                                                                                                                                                                                                                                                                                                                                                                                                                                                                                   \n",
       "146    LUÍS EDUARDO MAGALHÃES/BA                                                                                                                                                                                                                                                                                                                                                                                                                                                                                                                                                                                                                                                                                                                                                                                                                                                                                                                                                                                                                                                                                                                                                                                                      \n",
       "147    JUAZEIRO/BA                                                                                                                                                                                                                                                                                                                                                                                                                                                                                                                                                                                                                                                                                                                                                                                                                                                                                                                                                                                                                                                                                                                                                                                                                    \n",
       "148    ABARÉ/BA, ARACI/BA, CANUDOS/BA, CHORROCHÓ/BA, EUCLIDES DA CUNHA/BA, FEIRA DE SANTANA/BA, QUIJINGUE/BA, SANTA BÁRBARA/BA, SERRINHA/BA, TEOFILÂNDIA/BA, TUCANO/BA                                                                                                                                                                                                                                                                                                                                                                                                                                                                                                                                                                                                                                                                                                                                                                                                                                                                                                                                                                                                                                                                \n",
       "173    CANINDÉ DE SÃO FRANCISCO/SE, MONTE ALEGRE DE SERGIPE/SE, NOSSA SENHORA DA GLÓRIA/SE, PAULO AFONSO/BA, POÇO REDONDO/SE, PORTO DA FOLHA/SE, SANTA BRÍGIDA/BA                                                                                                                                                                                                                                                                                                                                                                                                                                                                                                                                                                                                                                                                                                                                                                                                                                                                                                                                                                                                                                                                     \n",
       "174    ACAJUTIBA/BA, ANDORINHA/BA, ANGUERA/BA, ANTÔNIO GONÇALVES/BA, APORÁ/BA, ARACI/BA, BANZAÊ/BA, BARROCAS/BA, BIRITINGA/BA, CAÉM/BA, CALDEIRÃO GRANDE/BA, CAMPO FORMOSO/BA, CANDEAL/BA, CANSANÇÃO/BA, CAPELA DO ALTO ALEGRE/BA, CAPIM GROSSO/BA, CIPÓ/BA, CONCEIÇÃO DO COITÉ/BA, CONDE/BA, CRISÓPOLIS/BA, ESPLANADA/BA, EUCLIDES DA CUNHA/BA, FEIRA DE SANTANA/BA, FILADÉLFIA/BA, GAVIÃO/BA, HELIÓPOLIS/BA, ICHU/BA, ITAPICURU/BA, ITIÚBA/BA, JACOBINA/BA, JAGUARARI/BA, JUAZEIRO/BA, LAMARÃO/BA, MAIRI/BA, MIGUEL CALMON/BA, MIRANGABA/BA, MONTE SANTO/BA, MORRO DO CHAPÉU/BA, MUNDO NOVO/BA, NORDESTINA/BA, NOVA FÁTIMA/BA, NOVA SOURE/BA, OLINDINA/BA, OUROLÂNDIA/BA, PÉ DE SERRA/BA, PINDOBAÇU/BA, PINTADAS/BA, PIRITIBA/BA, PONTO NOVO/BA, QUEIMADAS/BA, QUIJINGUE/BA, QUIXABEIRA/BA, RETIROLÂNDIA/BA, RIACHÃO DO JACUÍPE/BA, RIBEIRA DO AMPARO/BA, RIBEIRA DO POMBAL/BA, RIO REAL/BA, SANTA BÁRBARA/BA, SANTALUZ/BA, SÃO DOMINGOS/BA, SÃO GONÇALO DOS CAMPOS/BA, SÃO JOSÉ DO JACUÍPE/BA, SAÚDE/BA, SENHOR DO BONFIM/BA, SERRA PRETA/BA, SERRINHA/BA, SERROLÂNDIA/BA, SOBRADINHO/BA, TANQUINHO/BA, TAPIRAMUTÁ/BA, TEOFILÂNDIA/BA, TUCANO/BA, UMBURANAS/BA, VALENTE/BA, VÁRZEA DA ROÇA/BA, VÁRZEA DO POÇO/BA, VÁRZEA NOVA/BA   \n",
       "179    JUAZEIRO/BA                                                                                                                                                                                                                                                                                                                                                                                                                                                                                                                                                                                                                                                                                                                                                                                                                                                                                                                                                                                                                                                                                                                                                                                                                    \n",
       "182    ITAGUAÇU DA BAHIA/BA, XIQUE-XIQUE/BA                                                                                                                                                                                                                                                                                                                                                                                                                                                                                                                                                                                                                                                                                                                                                                                                                                                                                                                                                                                                                                                                                                                                                                                           \n",
       "192    SALVADOR/BA                                                                                                                                                                                                                                                                                                                                                                                                                                                                                                                                                                                                                                                                                                                                                                                                                                                                                                                                                                                                                                                                                                                                                                                                                    \n",
       "196    JUAZEIRO/BA                                                                                                                                                                                                                                                                                                                                                                                                                                                                                                                                                                                                                                                                                                                                                                                                                                                                                                                                                                                                                                                                                                                                                                                                                    \n",
       "215    SALVADOR/BA                                                                                                                                                                                                                                                                                                                                                                                                                                                                                                                                                                                                                                                                                                                                                                                                                                                                                                                                                                                                                                                                                                                                                                                                                    \n",
       "221    ILHÉUS/BA, ITABUNA/BA                                                                                                                                                                                                                                                                                                                                                                                                                                                                                                                                                                                                                                                                                                                                                                                                                                                                                                                                                                                                                                                                                                                                                                                                          \n",
       "223    JUAZEIRO/BA                                                                                                                                                                                                                                                                                                                                                                                                                                                                                                                                                                                                                                                                                                                                                                                                                                                                                                                                                                                                                                                                                                                                                                                                                    \n",
       "224    GENTIO DO OURO/BA, IBIPEBA/BA                                                                                                                                                                                                                                                                                                                                                                                                                                                                                                                                                                                                                                                                                                                                                                                                                                                                                                                                                                                                                                                                                                                                                                                                  \n",
       "255    VITÓRIA DA CONQUISTA/BA                                                                                                                                                                                                                                                                                                                                                                                                                                                                                                                                                                                                                                                                                                                                                                                                                                                                                                                                                                                                                                                                                                                                                                                                        \n",
       "266    CANDEIAS/BA, ITAGUAÍ/RJ, MADRE DE DEUS/BA, RIO DE JANEIRO/RJ, SALVADOR/BA, SANTOS/SP, VITÓRIA/ES                                                                                                                                                                                                                                                                                                                                                                                                                                                                                                                                                                                                                                                                                                                                                                                                                                                                                                                                                                                                                                                                                                                               \n",
       "267    BELÉM/PA, CABO DE SANTO AGOSTINHO/PE, FORTALEZA/CE, ITAGUAÍ/RJ, PARANAGUÁ/PR, RIO DE JANEIRO/RJ, RIO GRANDE/RS, SALVADOR/BA, SANTOS/SP, SÃO GONÇALO DO AMARANTE/CE, SÃO LUÍS/MA, VITÓRIA/ES                                                                                                                                                                                                                                                                                                                                                                                                                                                                                                                                                                                                                                                                                                                                                                                                                                                                                                                                                                                                                                    \n",
       "269    BARCARENA/PA, BELÉM/PA, CABEDELO/PB, CANDEIAS/BA, FORTALEZA/CE, ILHÉUS/BA, IMBITUBA/SC, IPOJUCA/PE, ITAGUAÍ/RJ, ITAJAÍ/SC, MACEIÓ/AL, NATAL/RN, PARANAGUÁ/PR, RECIFE/PE, RIO DE JANEIRO/RJ, RIO GRANDE/RS, SALVADOR/BA, SANTOS/SP, SÃO FRANCISCO DO SUL/SC, SÃO LUÍS/MA, SÃO SEBASTIÃO/SP, VITÓRIA/ES                                                                                                                                                                                                                                                                                                                                                                                                                                                                                                                                                                                                                                                                                                                                                                                                                                                                                                                          \n",
       "295    BONITO/BA                                                                                                                                                                                                                                                                                                                                                                                                                                                                                                                                                                                                                                                                                                                                                                                                                                                                                                                                                                                                                                                                                                                                                                                                                      \n",
       "303    MORRO DO CHAPÉU/BA                                                                                                                                                                                                                                                                                                                                                                                                                                                                                                                                                                                                                                                                                                                                                                                                                                                                                                                                                                                                                                                                                                                                                                                                             \n",
       "...                   ...                                                                                                                                                                                                                                                                                                                                                                                                                                                                                                                                                                                                                                                                                                                                                                                                                                                                                                                                                                                                                                                                                                                                                                                                             \n",
       "29011  MUNDO NOVO/BA                                                                                                                                                                                                                                                                                                                                                                                                                                                                                                                                                                                                                                                                                                                                                                                                                                                                                                                                                                                                                                                                                                                                                                                                                  \n",
       "29013  NORDESTINA/BA                                                                                                                                                                                                                                                                                                                                                                                                                                                                                                                                                                                                                                                                                                                                                                                                                                                                                                                                                                                                                                                                                                                                                                                                                  \n",
       "29016  NOVA FÁTIMA/BA                                                                                                                                                                                                                                                                                                                                                                                                                                                                                                                                                                                                                                                                                                                                                                                                                                                                                                                                                                                                                                                                                                                                                                                                                 \n",
       "29022  NOVO HORIZONTE/BA                                                                                                                                                                                                                                                                                                                                                                                                                                                                                                                                                                                                                                                                                                                                                                                                                                                                                                                                                                                                                                                                                                                                                                                                              \n",
       "29052  RETIROLÂNDIA/BA                                                                                                                                                                                                                                                                                                                                                                                                                                                                                                                                                                                                                                                                                                                                                                                                                                                                                                                                                                                                                                                                                                                                                                                                                \n",
       "29053  RIACHÃO DO JACUÍPE/BA                                                                                                                                                                                                                                                                                                                                                                                                                                                                                                                                                                                                                                                                                                                                                                                                                                                                                                                                                                                                                                                                                                                                                                                                          \n",
       "29056  RUY BARBOSA/BA                                                                                                                                                                                                                                                                                                                                                                                                                                                                                                                                                                                                                                                                                                                                                                                                                                                                                                                                                                                                                                                                                                                                                                                                                 \n",
       "29067  SANTANÓPOLIS/BA                                                                                                                                                                                                                                                                                                                                                                                                                                                                                                                                                                                                                                                                                                                                                                                                                                                                                                                                                                                                                                                                                                                                                                                                                \n",
       "29077  SERRINHA/BA                                                                                                                                                                                                                                                                                                                                                                                                                                                                                                                                                                                                                                                                                                                                                                                                                                                                                                                                                                                                                                                                                                                                                                                                                    \n",
       "29078  SERRINHA/BA                                                                                                                                                                                                                                                                                                                                                                                                                                                                                                                                                                                                                                                                                                                                                                                                                                                                                                                                                                                                                                                                                                                                                                                                                    \n",
       "29090  TEOFILÂNDIA/BA                                                                                                                                                                                                                                                                                                                                                                                                                                                                                                                                                                                                                                                                                                                                                                                                                                                                                                                                                                                                                                                                                                                                                                                                                 \n",
       "29091  TEOLÂNDIA/BA                                                                                                                                                                                                                                                                                                                                                                                                                                                                                                                                                                                                                                                                                                                                                                                                                                                                                                                                                                                                                                                                                                                                                                                                                   \n",
       "29094  TREMEDAL/BA                                                                                                                                                                                                                                                                                                                                                                                                                                                                                                                                                                                                                                                                                                                                                                                                                                                                                                                                                                                                                                                                                                                                                                                                                    \n",
       "29112  ARATACA/BA                                                                                                                                                                                                                                                                                                                                                                                                                                                                                                                                                                                                                                                                                                                                                                                                                                                                                                                                                                                                                                                                                                                                                                                                                     \n",
       "29115  BAIXA GRANDE/BA                                                                                                                                                                                                                                                                                                                                                                                                                                                                                                                                                                                                                                                                                                                                                                                                                                                                                                                                                                                                                                                                                                                                                                                                                \n",
       "29122  BARREIRAS/BA                                                                                                                                                                                                                                                                                                                                                                                                                                                                                                                                                                                                                                                                                                                                                                                                                                                                                                                                                                                                                                                                                                                                                                                                                   \n",
       "29123  BARRO PRETO/BA                                                                                                                                                                                                                                                                                                                                                                                                                                                                                                                                                                                                                                                                                                                                                                                                                                                                                                                                                                                                                                                                                                                                                                                                                 \n",
       "29133  BRUMADO/BA                                                                                                                                                                                                                                                                                                                                                                                                                                                                                                                                                                                                                                                                                                                                                                                                                                                                                                                                                                                                                                                                                                                                                                                                                     \n",
       "29139  COTEGIPE/BA                                                                                                                                                                                                                                                                                                                                                                                                                                                                                                                                                                                                                                                                                                                                                                                                                                                                                                                                                                                                                                                                                                                                                                                                                    \n",
       "29148  CANDEIAS/BA, ILHÉUS/BA, RECIFE/PE, SALVADOR/BA                                                                                                                                                                                                                                                                                                                                                                                                                                                                                                                                                                                                                                                                                                                                                                                                                                                                                                                                                                                                                                                                                                                                                                                 \n",
       "29182  SALVADOR/BA                                                                                                                                                                                                                                                                                                                                                                                                                                                                                                                                                                                                                                                                                                                                                                                                                                                                                                                                                                                                                                                                                                                                                                                                                    \n",
       "29234  SOUTO SOARES/BA                                                                                                                                                                                                                                                                                                                                                                                                                                                                                                                                                                                                                                                                                                                                                                                                                                                                                                                                                                                                                                                                                                                                                                                                                \n",
       "29253  BOM JESUS DA LAPA/BA                                                                                                                                                                                                                                                                                                                                                                                                                                                                                                                                                                                                                                                                                                                                                                                                                                                                                                                                                                                                                                                                                                                                                                                                           \n",
       "29254  NaN                                                                                                                                                                                                                                                                                                                                                                                                                                                                                                                                                                                                                                                                                                                                                                                                                                                                                                                                                                                                                                                                                                                                                                                                                            \n",
       "29255  NaN                                                                                                                                                                                                                                                                                                                                                                                                                                                                                                                                                                                                                                                                                                                                                                                                                                                                                                                                                                                                                                                                                                                                                                                                                            \n",
       "29256  NaN                                                                                                                                                                                                                                                                                                                                                                                                                                                                                                                                                                                                                                                                                                                                                                                                                                                                                                                                                                                                                                                                                                                                                                                                                            \n",
       "29257  NaN                                                                                                                                                                                                                                                                                                                                                                                                                                                                                                                                                                                                                                                                                                                                                                                                                                                                                                                                                                                                                                                                                                                                                                                                                            \n",
       "29258  NaN                                                                                                                                                                                                                                                                                                                                                                                                                                                                                                                                                                                                                                                                                                                                                                                                                                                                                                                                                                                                                                                                                                                                                                                                                            \n",
       "29259  NaN                                                                                                                                                                                                                                                                                                                                                                                                                                                                                                                                                                                                                                                                                                                                                                                                                                                                                                                                                                                                                                                                                                                                                                                                                            \n",
       "29260  NaN                                                                                                                                                                                                                                                                                                                                                                                                                                                                                                                                                                                                                                                                                                                                                                                                                                                                                                                                                                                                                                                                                                                                                                                                                            \n",
       "\n",
       "                                                  txt_executores  \\\n",
       "19     Estado                                                      \n",
       "33     DNIT                                                        \n",
       "55     DNIT                                                        \n",
       "59     Companhia hidro elétrica do São Francisco                   \n",
       "62     Companhia hidro elétrica do São Francisco                   \n",
       "76     DNIT; Exército                                              \n",
       "93     Companhia hidro elétrica do São Francisco                   \n",
       "102    VALEC                                                       \n",
       "111    Companhia de Transporte de Salvador - CTS                   \n",
       "112    Serviço Federal de Processamento de Dados - SERPRO          \n",
       "145    DNIT                                                        \n",
       "146    DNIT                                                        \n",
       "147    DNIT                                                        \n",
       "148    DNIT                                                        \n",
       "173    Codevasf                                                    \n",
       "174    Codevasf                                                    \n",
       "179    Codevasf                                                    \n",
       "182    Codevasf                                                    \n",
       "192    Infraero                                                    \n",
       "196    Codevasf                                                    \n",
       "215    Companhia Docas do Estado da Bahia                          \n",
       "221    DNIT                                                        \n",
       "223    Codevasf                                                    \n",
       "224    Codevasf                                                    \n",
       "255    Município                                                   \n",
       "266    Companhia Docas do Estado de São Paulo - CODESP; SEP/PR     \n",
       "267    Serviço Federal de Processamento de Dados - SERPRO; UFSC    \n",
       "269    Ministério dos Transportes, Portos e Aviação Civil - MTPA   \n",
       "295    Enel Green Power Cristal Eolica S.A.                        \n",
       "303    Enel Green Power Primavera Eólica S.A.                      \n",
       "...                                       ...                      \n",
       "29011  Município                                                   \n",
       "29013  Município                                                   \n",
       "29016  Município                                                   \n",
       "29022  Município                                                   \n",
       "29052  Município                                                   \n",
       "29053  Município                                                   \n",
       "29056  Município                                                   \n",
       "29067  Município                                                   \n",
       "29077  Município                                                   \n",
       "29078  Município                                                   \n",
       "29090  Município                                                   \n",
       "29091  Município                                                   \n",
       "29094  Município                                                   \n",
       "29112  Município                                                   \n",
       "29115  Município                                                   \n",
       "29122  Município                                                   \n",
       "29123  Município                                                   \n",
       "29133  Município                                                   \n",
       "29139  Município                                                   \n",
       "29148  SEP/PR                                                      \n",
       "29182  NaN                                                         \n",
       "29234  Município                                                   \n",
       "29253  Codevasf                                                    \n",
       "29254  Codevasf                                                    \n",
       "29255  Codevasf                                                    \n",
       "29256  Codevasf                                                    \n",
       "29257  Codevasf                                                    \n",
       "29258  Codevasf                                                    \n",
       "29259  Codevasf                                                    \n",
       "29260  Codevasf                                                    \n",
       "\n",
       "                                                dsc_orgao   dat_ciclo  \\\n",
       "19     Ministério da Integração Nacional                   31/12/2018   \n",
       "33     Ministério dos Transportes, Portos e Aviação Civil  31/12/2018   \n",
       "55     Ministério dos Transportes, Portos e Aviação Civil  31/12/2018   \n",
       "59     Ministério de Minas e Energia                       31/12/2018   \n",
       "62     Ministério de Minas e Energia                       31/12/2018   \n",
       "76     Ministério dos Transportes, Portos e Aviação Civil  31/12/2018   \n",
       "93     Ministério de Minas e Energia                       31/12/2018   \n",
       "102    Ministério dos Transportes, Portos e Aviação Civil  31/12/2018   \n",
       "111    Ministério das Cidades                              31/12/2018   \n",
       "112    Ministério dos Transportes, Portos e Aviação Civil  31/12/2018   \n",
       "145    Ministério dos Transportes, Portos e Aviação Civil  31/12/2018   \n",
       "146    Ministério dos Transportes, Portos e Aviação Civil  31/12/2018   \n",
       "147    Ministério dos Transportes, Portos e Aviação Civil  31/12/2018   \n",
       "148    Ministério dos Transportes, Portos e Aviação Civil  31/12/2018   \n",
       "173    Ministério da Integração Nacional                   31/12/2018   \n",
       "174    Ministério da Integração Nacional                   31/12/2018   \n",
       "179    Ministério da Integração Nacional                   31/12/2018   \n",
       "182    Ministério da Integração Nacional                   31/12/2018   \n",
       "192    Ministério dos Transportes, Portos e Aviação Civil  31/12/2018   \n",
       "196    Ministério da Integração Nacional                   31/12/2018   \n",
       "215    Ministério dos Transportes, Portos e Aviação Civil  31/12/2018   \n",
       "221    Ministério dos Transportes, Portos e Aviação Civil  31/12/2018   \n",
       "223    Ministério da Integração Nacional                   31/12/2018   \n",
       "224    Ministério da Integração Nacional                   31/12/2018   \n",
       "255    Ministério da Integração Nacional                   31/12/2018   \n",
       "266    Ministério dos Transportes, Portos e Aviação Civil  31/12/2018   \n",
       "267    Ministério dos Transportes, Portos e Aviação Civil  31/12/2018   \n",
       "269    Ministério dos Transportes, Portos e Aviação Civil  31/12/2018   \n",
       "295    Ministério de Minas e Energia                       31/12/2018   \n",
       "303    Ministério de Minas e Energia                       31/12/2018   \n",
       "...                              ...                              ...   \n",
       "29011  Ministério da Integração Nacional                   31/12/2018   \n",
       "29013  Ministério da Integração Nacional                   31/12/2018   \n",
       "29016  Ministério da Integração Nacional                   31/12/2018   \n",
       "29022  Ministério da Integração Nacional                   31/12/2018   \n",
       "29052  Ministério da Integração Nacional                   31/12/2018   \n",
       "29053  Ministério da Integração Nacional                   31/12/2018   \n",
       "29056  Ministério da Integração Nacional                   31/12/2018   \n",
       "29067  Ministério da Integração Nacional                   31/12/2018   \n",
       "29077  Ministério da Integração Nacional                   31/12/2018   \n",
       "29078  Ministério da Integração Nacional                   31/12/2018   \n",
       "29090  Ministério da Integração Nacional                   31/12/2018   \n",
       "29091  Ministério da Integração Nacional                   31/12/2018   \n",
       "29094  Ministério da Integração Nacional                   31/12/2018   \n",
       "29112  Ministério da Integração Nacional                   31/12/2018   \n",
       "29115  Ministério da Integração Nacional                   31/12/2018   \n",
       "29122  Ministério da Integração Nacional                   31/12/2018   \n",
       "29123  Ministério da Integração Nacional                   31/12/2018   \n",
       "29133  Ministério da Integração Nacional                   31/12/2018   \n",
       "29139  Ministério da Integração Nacional                   31/12/2018   \n",
       "29148  Ministério dos Transportes, Portos e Aviação Civil  31/12/2018   \n",
       "29182  Ministério dos Transportes, Portos e Aviação Civil  31/12/2018   \n",
       "29234  Ministério da Integração Nacional                   31/12/2018   \n",
       "29253  Ministério da Integração Nacional                   31/12/2018   \n",
       "29254  Ministério da Integração Nacional                   31/12/2018   \n",
       "29255  Ministério da Integração Nacional                   31/12/2018   \n",
       "29256  Ministério da Integração Nacional                   31/12/2018   \n",
       "29257  Ministério da Integração Nacional                   31/12/2018   \n",
       "29258  Ministério da Integração Nacional                   31/12/2018   \n",
       "29259  Ministério da Integração Nacional                   31/12/2018   \n",
       "29260  Ministério da Integração Nacional                   31/12/2018   \n",
       "\n",
       "      dat_selecao dat_conclusao_revisada      obra_latitude  \\\n",
       "19     29/06/2012  02/02/2018             NaN                 \n",
       "33     NaN         NaN                    NaN                 \n",
       "55     NaN         NaN                    NaN                 \n",
       "59     NaN         NaN                    NaN                 \n",
       "62     NaN         28/02/2016             12°41'52.800000\"S   \n",
       "76     NaN         30/12/2015             NaN                 \n",
       "93     NaN         NaN                    NaN                 \n",
       "102    NaN         NaN                    NaN                 \n",
       "111    04/10/2013  15/08/2017             NaN                 \n",
       "112    NaN         NaN                    22°52'50.757600\"S   \n",
       "145    NaN         27/07/2017             NaN                 \n",
       "146    NaN         01/01/2017             NaN                 \n",
       "147    NaN         NaN                    NaN                 \n",
       "148    NaN         NaN                    NaN                 \n",
       "173    NaN         NaN                    NaN                 \n",
       "174    NaN         30/09/2016             NaN                 \n",
       "179    NaN         NaN                    NaN                 \n",
       "182    NaN         NaN                    11°0'42.840000\"S    \n",
       "192    NaN         NaN                    12°54'33.480000\"S   \n",
       "196    NaN         NaN                    9°24'59.888340\"S    \n",
       "215    NaN         NaN                    12°58'8.040000\"S    \n",
       "221    NaN         NaN                    NaN                 \n",
       "223    NaN         NaN                    9°24'59.888340\"S    \n",
       "224    NaN         NaN                    11°25'54.981624\"S   \n",
       "255    31/12/2012  07/06/2017             14°51'42.916284\"S   \n",
       "266    NaN         NaN                    12°58'29.470584\"S   \n",
       "267    NaN         NaN                    2°31'53.878872\"S    \n",
       "269    NaN         NaN                    NaN                 \n",
       "295    NaN         10/11/2017             11°48'18.399600\"S   \n",
       "303    NaN         10/11/2017             11°44'0.099600\"S    \n",
       "...    ...                ...                          ...    \n",
       "29011  NaN         NaN                    NaN                 \n",
       "29013  NaN         NaN                    NaN                 \n",
       "29016  NaN         NaN                    NaN                 \n",
       "29022  NaN         NaN                    NaN                 \n",
       "29052  NaN         NaN                    NaN                 \n",
       "29053  NaN         NaN                    NaN                 \n",
       "29056  NaN         NaN                    NaN                 \n",
       "29067  NaN         NaN                    NaN                 \n",
       "29077  NaN         NaN                    NaN                 \n",
       "29078  NaN         NaN                    NaN                 \n",
       "29090  NaN         NaN                    NaN                 \n",
       "29091  NaN         NaN                    NaN                 \n",
       "29094  NaN         NaN                    NaN                 \n",
       "29112  NaN         NaN                    NaN                 \n",
       "29115  NaN         NaN                    NaN                 \n",
       "29122  NaN         NaN                    NaN                 \n",
       "29123  NaN         NaN                    NaN                 \n",
       "29133  NaN         NaN                    NaN                 \n",
       "29139  NaN         NaN                    12°1'42.950568\"S    \n",
       "29148  NaN         NaN                    NaN                 \n",
       "29182  NaN         NaN                    NaN                 \n",
       "29234  NaN         NaN                    12°5'33.345600\"S    \n",
       "29253  NaN         NaN                    13°15'18.000000\"S   \n",
       "29254  NaN         NaN                    13°15'18.000000\"S   \n",
       "29255  NaN         NaN                    13°15'18.000000\"S   \n",
       "29256  NaN         NaN                    13°15'18.000000\"S   \n",
       "29257  NaN         05/12/2018             13°15'18.000000\"S   \n",
       "29258  NaN         NaN                    13°15'18.000000\"S   \n",
       "29259  NaN         NaN                    13°15'18.000000\"S   \n",
       "29260  NaN         NaN                    13°15'18.000000\"S   \n",
       "\n",
       "          obra_longitude  emblematica  \\\n",
       "19     NaN                NaN           \n",
       "33     NaN                NaN           \n",
       "55     NaN                NaN           \n",
       "59     NaN                NaN           \n",
       "62     38°19'25.680000\"O  NaN           \n",
       "76     NaN                NaN           \n",
       "93     NaN                NaN           \n",
       "102    NaN                EMBLEMATICA   \n",
       "111    NaN                NaN           \n",
       "112    43°6'15.606000\"O   EMBLEMATICA   \n",
       "145    NaN                NaN           \n",
       "146    NaN                NaN           \n",
       "147    NaN                NaN           \n",
       "148    NaN                NaN           \n",
       "173    NaN                NaN           \n",
       "174    NaN                NaN           \n",
       "179    NaN                NaN           \n",
       "182    42°23'55.680000\"O  NaN           \n",
       "192    38°19'49.440000\"O  NaN           \n",
       "196    40°30'13.040712\"O  NaN           \n",
       "215    38°30'41.400000\"O  NaN           \n",
       "221    NaN                NaN           \n",
       "223    40°30'12.680712\"O  NaN           \n",
       "224    42°30'58.783788\"O  NaN           \n",
       "255    40°50'40.347636\"O  NaN           \n",
       "266    38°30'53.429832\"O  NaN           \n",
       "267    44°18'19.484316\"O  NaN           \n",
       "269    NaN                NaN           \n",
       "295    41°24'00.000000\"O  NaN           \n",
       "303    41°22'22.800000\"O  NaN           \n",
       "...                  ...  ...           \n",
       "29011  NaN                NaN           \n",
       "29013  NaN                NaN           \n",
       "29016  NaN                NaN           \n",
       "29022  NaN                NaN           \n",
       "29052  NaN                NaN           \n",
       "29053  NaN                NaN           \n",
       "29056  NaN                NaN           \n",
       "29067  NaN                NaN           \n",
       "29077  NaN                NaN           \n",
       "29078  NaN                NaN           \n",
       "29090  NaN                NaN           \n",
       "29091  NaN                NaN           \n",
       "29094  NaN                NaN           \n",
       "29112  NaN                NaN           \n",
       "29115  NaN                NaN           \n",
       "29122  NaN                NaN           \n",
       "29123  NaN                NaN           \n",
       "29133  NaN                NaN           \n",
       "29139  44°15'8.914104\"O   NaN           \n",
       "29148  NaN                NaN           \n",
       "29182  NaN                NaN           \n",
       "29234  41°38'39.294204\"O  NaN           \n",
       "29253  43°25'4.800000\"O   NaN           \n",
       "29254  43°25'4.800000\"O   NaN           \n",
       "29255  43°25'4.800000\"O   NaN           \n",
       "29256  43°25'4.800000\"O   NaN           \n",
       "29257  43°25'4.800000\"O   NaN           \n",
       "29258  43°25'4.800000\"O   NaN           \n",
       "29259  43°25'4.800000\"O   NaN           \n",
       "29260  43°25'4.800000\"O   NaN           \n",
       "\n",
       "                                                                                              observacao  \\\n",
       "19     NaN                                                                                                 \n",
       "33     NaN                                                                                                 \n",
       "55     NaN                                                                                                 \n",
       "59     NaN                                                                                                 \n",
       "62     NaN                                                                                                 \n",
       "76     NaN                                                                                                 \n",
       "93     NaN                                                                                                 \n",
       "102    NaN                                                                                                 \n",
       "111    NaN                                                                                                 \n",
       "112    NaN                                                                                                 \n",
       "145    NaN                                                                                                 \n",
       "146    NaN                                                                                                 \n",
       "147    NaN                                                                                                 \n",
       "148    NaN                                                                                                 \n",
       "173    NaN                                                                                                 \n",
       "174    NaN                                                                                                 \n",
       "179    NaN                                                                                                 \n",
       "182    NaN                                                                                                 \n",
       "192    NaN                                                                                                 \n",
       "196    NaN                                                                                                 \n",
       "215    NaN                                                                                                 \n",
       "221    NaN                                                                                                 \n",
       "223    NaN                                                                                                 \n",
       "224    NaN                                                                                                 \n",
       "255    NaN                                                                                                 \n",
       "266    NaN                                                                                                 \n",
       "267    NaN                                                                                                 \n",
       "269    NaN                                                                                                 \n",
       "295    NaN                                                                                                 \n",
       "303    NaN                                                                                                 \n",
       "...    ...                                                                                                 \n",
       "29011  Valor não divulgado em razão da possibilidade de uso do Regime Diferenciado de Contratação - RDC.   \n",
       "29013  Valor não divulgado em razão da possibilidade de uso do Regime Diferenciado de Contratação - RDC.   \n",
       "29016  Valor não divulgado em razão da possibilidade de uso do Regime Diferenciado de Contratação - RDC.   \n",
       "29022  Valor não divulgado em razão da possibilidade de uso do Regime Diferenciado de Contratação - RDC.   \n",
       "29052  Valor não divulgado em razão da possibilidade de uso do Regime Diferenciado de Contratação - RDC.   \n",
       "29053  Valor não divulgado em razão da possibilidade de uso do Regime Diferenciado de Contratação - RDC.   \n",
       "29056  Valor não divulgado em razão da possibilidade de uso do Regime Diferenciado de Contratação - RDC.   \n",
       "29067  Valor não divulgado em razão da possibilidade de uso do Regime Diferenciado de Contratação - RDC.   \n",
       "29077  Valor não divulgado em razão da possibilidade de uso do Regime Diferenciado de Contratação - RDC.   \n",
       "29078  Valor não divulgado em razão da possibilidade de uso do Regime Diferenciado de Contratação - RDC.   \n",
       "29090  Valor não divulgado em razão da possibilidade de uso do Regime Diferenciado de Contratação - RDC.   \n",
       "29091  Valor não divulgado em razão da possibilidade de uso do Regime Diferenciado de Contratação - RDC.   \n",
       "29094  Valor não divulgado em razão da possibilidade de uso do Regime Diferenciado de Contratação - RDC.   \n",
       "29112  Valor não divulgado em razão da possibilidade de uso do Regime Diferenciado de Contratação - RDC.   \n",
       "29115  Valor não divulgado em razão da possibilidade de uso do Regime Diferenciado de Contratação - RDC.   \n",
       "29122  Valor não divulgado em razão da possibilidade de uso do Regime Diferenciado de Contratação - RDC.   \n",
       "29123  Valor não divulgado em razão da possibilidade de uso do Regime Diferenciado de Contratação - RDC.   \n",
       "29133  Valor não divulgado em razão da possibilidade de uso do Regime Diferenciado de Contratação - RDC.   \n",
       "29139  Valor não divulgado em razão da possibilidade de uso do Regime Diferenciado de Contratação - RDC.   \n",
       "29148  Valor não divulgado em razão da possibilidade de uso do Regime Diferenciado de Contratação - RDC.   \n",
       "29182  NaN                                                                                                 \n",
       "29234  Valor não divulgado em razão da possibilidade de uso do Regime Diferenciado de Contratação - RDC.   \n",
       "29253  NaN                                                                                                 \n",
       "29254  NaN                                                                                                 \n",
       "29255  NaN                                                                                                 \n",
       "29256  NaN                                                                                                 \n",
       "29257  NaN                                                                                                 \n",
       "29258  NaN                                                                                                 \n",
       "29259  NaN                                                                                                 \n",
       "29260  NaN                                                                                                 \n",
       "\n",
       "                   tipo_empreendimento                         subeixo  \\\n",
       "19     Recursos Hídricos                Infraestrutura Social e Urbana   \n",
       "33     Rodovias                         Infraestrutura Logística         \n",
       "55     Rodovias                         Infraestrutura Logística         \n",
       "59     Transmissão de Energia Elétrica  Infraestrutura Energética        \n",
       "62     Transmissão de Energia Elétrica  Infraestrutura Energética        \n",
       "76     Rodovias                         Infraestrutura Logística         \n",
       "93     Transmissão de Energia Elétrica  Infraestrutura Energética        \n",
       "102    Ferrovia                         Infraestrutura Logística         \n",
       "111    Mobilidade Urbana                Infraestrutura Social e Urbana   \n",
       "112    Porto                            Infraestrutura Logística         \n",
       "145    Rodovias                         Infraestrutura Logística         \n",
       "146    Rodovias                         Infraestrutura Logística         \n",
       "147    Rodovias                         Infraestrutura Logística         \n",
       "148    Rodovias                         Infraestrutura Logística         \n",
       "173    Recursos Hídricos                Infraestrutura Social e Urbana   \n",
       "174    Recursos Hídricos                Infraestrutura Social e Urbana   \n",
       "179    Recursos Hídricos                Infraestrutura Social e Urbana   \n",
       "182    Recursos Hídricos                Infraestrutura Social e Urbana   \n",
       "192    Aeroporto                        Infraestrutura Logística         \n",
       "196    Recursos Hídricos                Infraestrutura Social e Urbana   \n",
       "215    Porto                            Infraestrutura Logística         \n",
       "221    Rodovias                         Infraestrutura Logística         \n",
       "223    Recursos Hídricos                Infraestrutura Social e Urbana   \n",
       "224    Recursos Hídricos                Infraestrutura Social e Urbana   \n",
       "255    Recursos Hídricos                Infraestrutura Social e Urbana   \n",
       "266    Porto                            Infraestrutura Logística         \n",
       "267    Porto                            Infraestrutura Logística         \n",
       "269    Porto                            Infraestrutura Logística         \n",
       "295    Geração de Energia Elétrica      Infraestrutura Energética        \n",
       "303    Geração de Energia Elétrica      Infraestrutura Energética        \n",
       "...                            ...                            ...        \n",
       "29011  Recursos Hídricos                Infraestrutura Social e Urbana   \n",
       "29013  Recursos Hídricos                Infraestrutura Social e Urbana   \n",
       "29016  Recursos Hídricos                Infraestrutura Social e Urbana   \n",
       "29022  Recursos Hídricos                Infraestrutura Social e Urbana   \n",
       "29052  Recursos Hídricos                Infraestrutura Social e Urbana   \n",
       "29053  Recursos Hídricos                Infraestrutura Social e Urbana   \n",
       "29056  Recursos Hídricos                Infraestrutura Social e Urbana   \n",
       "29067  Recursos Hídricos                Infraestrutura Social e Urbana   \n",
       "29077  Recursos Hídricos                Infraestrutura Social e Urbana   \n",
       "29078  Recursos Hídricos                Infraestrutura Social e Urbana   \n",
       "29090  Recursos Hídricos                Infraestrutura Social e Urbana   \n",
       "29091  Recursos Hídricos                Infraestrutura Social e Urbana   \n",
       "29094  Recursos Hídricos                Infraestrutura Social e Urbana   \n",
       "29112  Recursos Hídricos                Infraestrutura Social e Urbana   \n",
       "29115  Recursos Hídricos                Infraestrutura Social e Urbana   \n",
       "29122  Recursos Hídricos                Infraestrutura Social e Urbana   \n",
       "29123  Recursos Hídricos                Infraestrutura Social e Urbana   \n",
       "29133  Recursos Hídricos                Infraestrutura Social e Urbana   \n",
       "29139  Recursos Hídricos                Infraestrutura Social e Urbana   \n",
       "29148  Porto                            Infraestrutura Logística         \n",
       "29182  Rodovias                         Infraestrutura Logística         \n",
       "29234  Recursos Hídricos                Infraestrutura Social e Urbana   \n",
       "29253  Recursos Hídricos                Infraestrutura Social e Urbana   \n",
       "29254  Recursos Hídricos                Infraestrutura Social e Urbana   \n",
       "29255  Recursos Hídricos                Infraestrutura Social e Urbana   \n",
       "29256  Recursos Hídricos                Infraestrutura Social e Urbana   \n",
       "29257  Recursos Hídricos                Infraestrutura Social e Urbana   \n",
       "29258  Recursos Hídricos                Infraestrutura Social e Urbana   \n",
       "29259  Recursos Hídricos                Infraestrutura Social e Urbana   \n",
       "29260  Recursos Hídricos                Infraestrutura Social e Urbana   \n",
       "\n",
       "            estagio  \n",
       "19     concluido     \n",
       "33     em_obras      \n",
       "55     em_obras      \n",
       "59     em_obras      \n",
       "62     concluido     \n",
       "76     concluido     \n",
       "93     em_obras      \n",
       "102    em_obras      \n",
       "111    concluido     \n",
       "112    em_obras      \n",
       "145    concluido     \n",
       "146    concluido     \n",
       "147    em_obras      \n",
       "148    em_obras      \n",
       "173    em_obras      \n",
       "174    concluido     \n",
       "179    em_obras      \n",
       "182    em_obras      \n",
       "192    em_obras      \n",
       "196    em_obras      \n",
       "215    em_obras      \n",
       "221    em_obras      \n",
       "223    em_obras      \n",
       "224    em_obras      \n",
       "255    concluido     \n",
       "266    em_obras      \n",
       "267    em_obras      \n",
       "269    em_obras      \n",
       "295    concluido     \n",
       "303    concluido     \n",
       "...          ...     \n",
       "29011  nao_iniciado  \n",
       "29013  nao_iniciado  \n",
       "29016  nao_iniciado  \n",
       "29022  nao_iniciado  \n",
       "29052  nao_iniciado  \n",
       "29053  nao_iniciado  \n",
       "29056  nao_iniciado  \n",
       "29067  nao_iniciado  \n",
       "29077  nao_iniciado  \n",
       "29078  nao_iniciado  \n",
       "29090  nao_iniciado  \n",
       "29091  nao_iniciado  \n",
       "29094  nao_iniciado  \n",
       "29112  nao_iniciado  \n",
       "29115  nao_iniciado  \n",
       "29122  nao_iniciado  \n",
       "29123  nao_iniciado  \n",
       "29133  nao_iniciado  \n",
       "29139  nao_iniciado  \n",
       "29148  nao_iniciado  \n",
       "29182  em_obras      \n",
       "29234  nao_iniciado  \n",
       "29253  em_obras      \n",
       "29254  em_obras      \n",
       "29255  em_obras      \n",
       "29256  em_obras      \n",
       "29257  concluido     \n",
       "29258  em_obras      \n",
       "29259  em_obras      \n",
       "29260  em_obras      \n",
       "\n",
       "[3322 rows x 18 columns]"
      ]
     },
     "execution_count": 11,
     "metadata": {},
     "output_type": "execute_result"
    }
   ],
   "source": [
    "pacba17['estagio'] = np.where(pacba17['idn_estagio'] >= 70, 'em_obras', 'nao_iniciado')\n",
    "pacba17['estagio'] = np.where(pacba17['idn_estagio'] == 90, 'concluido', pacba17['estagio'])\n",
    "pacba17.drop(columns=['idn_estagio'])"
   ]
  },
  {
   "cell_type": "code",
   "execution_count": 12,
   "metadata": {},
   "outputs": [
    {
     "data": {
      "text/plain": [
       "idn_empreendimento        object \n",
       "id_digs                   object \n",
       "titulo                    object \n",
       "investimento_total        float64\n",
       "sig_uf                    object \n",
       "txt_municipios            object \n",
       "txt_executores            object \n",
       "dsc_orgao                 object \n",
       "idn_estagio               int64  \n",
       "dat_ciclo                 object \n",
       "dat_selecao               object \n",
       "dat_conclusao_revisada    object \n",
       "obra_latitude             object \n",
       "obra_longitude            object \n",
       "emblematica               object \n",
       "observacao                object \n",
       "tipo_empreendimento       object \n",
       "subeixo                   object \n",
       "estagio                   object \n",
       "dtype: object"
      ]
     },
     "execution_count": 12,
     "metadata": {},
     "output_type": "execute_result"
    }
   ],
   "source": [
    "pacba17.dtypes"
   ]
  },
  {
   "cell_type": "markdown",
   "metadata": {},
   "source": [
    "### Explorando a coluna `dat_selecao`"
   ]
  },
  {
   "cell_type": "markdown",
   "metadata": {},
   "source": [
    "1. Preencher os 92 valores vazios no caso de obras concluídas a partir da mediana do número de obras.\n",
    "2. Preecher os 121 valores vazios no caso de obras em andamento com a moda das datas de seleção (dia, mês, ano).\n",
    "3. 192 valores vazios no caso de obras ainda não iniciadas."
   ]
  },
  {
   "cell_type": "code",
   "execution_count": 13,
   "metadata": {},
   "outputs": [],
   "source": [
    "def values_from_dates(df, column, day, month, year):\n",
    "    df[day] = df[column].str.slice(0,2)\n",
    "    df[month] = df[column].str.slice(3,5)\n",
    "    df[year] = df[column].str.slice(6,10)\n",
    "    return df\n",
    "def conclusion_status(df, col):\n",
    "    df[col] = np.where(df.dat_conclusao_revisada.notna(), 'sim', 'nao')\n",
    "    return df"
   ]
  },
  {
   "cell_type": "markdown",
   "metadata": {},
   "source": [
    "- Considera uma parte do dataset em que o estágio das obras é concluído e não há valores nulos na data de seleção.\n",
    "- Confere que não há valores vazios em `dat_selecao` e `dat_conclusao_revisada`.\n",
    "- Converte essas colunas para _datetime_.\n",
    "- Calcula o número de dias das obras e guarda a sua __mediana__."
   ]
  },
  {
   "cell_type": "code",
   "execution_count": 14,
   "metadata": {},
   "outputs": [],
   "source": [
    "concluido = pacba17[(pacba17['estagio'] == 'concluido') & (pacba17.dat_selecao.notnull())]"
   ]
  },
  {
   "cell_type": "code",
   "execution_count": 15,
   "metadata": {},
   "outputs": [],
   "source": [
    "assert concluido.dat_selecao.isnull().sum() == 0 and concluido.dat_conclusao_revisada.isnull().sum() == 0"
   ]
  },
  {
   "cell_type": "code",
   "execution_count": 16,
   "metadata": {},
   "outputs": [
    {
     "name": "stderr",
     "output_type": "stream",
     "text": [
      "/home/fguer/.local/lib/python2.7/site-packages/ipykernel_launcher.py:1: SettingWithCopyWarning: \n",
      "A value is trying to be set on a copy of a slice from a DataFrame.\n",
      "Try using .loc[row_indexer,col_indexer] = value instead\n",
      "\n",
      "See the caveats in the documentation: http://pandas.pydata.org/pandas-docs/stable/indexing.html#indexing-view-versus-copy\n",
      "  \"\"\"Entry point for launching an IPython kernel.\n",
      "/home/fguer/.local/lib/python2.7/site-packages/ipykernel_launcher.py:2: SettingWithCopyWarning: \n",
      "A value is trying to be set on a copy of a slice from a DataFrame.\n",
      "Try using .loc[row_indexer,col_indexer] = value instead\n",
      "\n",
      "See the caveats in the documentation: http://pandas.pydata.org/pandas-docs/stable/indexing.html#indexing-view-versus-copy\n",
      "  \n"
     ]
    }
   ],
   "source": [
    "concluido['dat_selecao'] = pd.to_datetime(concluido['dat_selecao'], dayfirst=True)\n",
    "concluido['dat_conclusao_revisada'] = pd.to_datetime(concluido['dat_conclusao_revisada'], dayfirst=True)"
   ]
  },
  {
   "cell_type": "code",
   "execution_count": 17,
   "metadata": {},
   "outputs": [
    {
     "name": "stderr",
     "output_type": "stream",
     "text": [
      "/home/fguer/.local/lib/python2.7/site-packages/ipykernel_launcher.py:1: SettingWithCopyWarning: \n",
      "A value is trying to be set on a copy of a slice from a DataFrame.\n",
      "Try using .loc[row_indexer,col_indexer] = value instead\n",
      "\n",
      "See the caveats in the documentation: http://pandas.pydata.org/pandas-docs/stable/indexing.html#indexing-view-versus-copy\n",
      "  \"\"\"Entry point for launching an IPython kernel.\n"
     ]
    }
   ],
   "source": [
    "concluido['dias_obra'] = (concluido['dat_conclusao_revisada'] - concluido['dat_selecao']).dt.days"
   ]
  },
  {
   "cell_type": "code",
   "execution_count": 18,
   "metadata": {},
   "outputs": [],
   "source": [
    "concluido_median = int(concluido['dias_obra'].median())"
   ]
  },
  {
   "cell_type": "code",
   "execution_count": 19,
   "metadata": {},
   "outputs": [],
   "source": [
    "del(concluido)"
   ]
  },
  {
   "cell_type": "markdown",
   "metadata": {},
   "source": [
    "Substitui os valores vazios da `dat_seleção` pela __moda__ onde o `estagio` é diferente de concluído."
   ]
  },
  {
   "cell_type": "code",
   "execution_count": 20,
   "metadata": {},
   "outputs": [],
   "source": [
    "nao_concluido_moda = pacba17['dat_selecao'][(pacba17['estagio'] != 'concluido') & (pacba17.dat_selecao.notnull())].mode()"
   ]
  },
  {
   "cell_type": "code",
   "execution_count": 21,
   "metadata": {},
   "outputs": [
    {
     "name": "stderr",
     "output_type": "stream",
     "text": [
      "/home/fguer/.local/lib/python2.7/site-packages/ipykernel_launcher.py:1: SettingWithCopyWarning: \n",
      "A value is trying to be set on a copy of a slice from a DataFrame\n",
      "\n",
      "See the caveats in the documentation: http://pandas.pydata.org/pandas-docs/stable/indexing.html#indexing-view-versus-copy\n",
      "  \"\"\"Entry point for launching an IPython kernel.\n"
     ]
    }
   ],
   "source": [
    "pacba17['dat_selecao'][(pacba17['estagio'] != 'concluido') & (pacba17.dat_selecao.isnull())] = str(nao_concluido_moda[0])"
   ]
  },
  {
   "cell_type": "code",
   "execution_count": 22,
   "metadata": {},
   "outputs": [],
   "source": [
    "pacba17['dat_conclusao_revisada'] = pacba17['dat_conclusao_revisada'].fillna(pacba17['dat_selecao'])"
   ]
  },
  {
   "cell_type": "code",
   "execution_count": 23,
   "metadata": {},
   "outputs": [],
   "source": [
    "assert pacba17.dat_conclusao_revisada.isnull().sum() == 0"
   ]
  },
  {
   "cell_type": "code",
   "execution_count": 24,
   "metadata": {},
   "outputs": [],
   "source": [
    "pacba17['dat_selecao'] = pd.to_datetime(pacba17['dat_selecao'], dayfirst=True)\n",
    "pacba17['dat_conclusao_revisada'] = pd.to_datetime(pacba17['dat_conclusao_revisada'], dayfirst=True)"
   ]
  },
  {
   "cell_type": "code",
   "execution_count": 25,
   "metadata": {},
   "outputs": [],
   "source": [
    "pacba17['dat_selecao'] = pacba17['dat_selecao'].fillna(pacba17['dat_conclusao_revisada'] - timedelta(days=concluido_median))"
   ]
  },
  {
   "cell_type": "code",
   "execution_count": 26,
   "metadata": {},
   "outputs": [],
   "source": [
    "assert pacba17.dat_selecao.isnull().sum() == 0"
   ]
  },
  {
   "cell_type": "code",
   "execution_count": 27,
   "metadata": {},
   "outputs": [],
   "source": [
    "pacba17['dias_obra'] = (pacba17['dat_conclusao_revisada'] - pacba17['dat_selecao']).dt.days"
   ]
  },
  {
   "cell_type": "raw",
   "metadata": {},
   "source": [
    "pacba17['dat_selecao'] = pd.to_datetime(pacba17['dat_selecao'])\n",
    "pacba17['dat_conclusao_revisada'] = pd.to_datetime(pacba17['dat_conclusao_revisada'])"
   ]
  },
  {
   "cell_type": "code",
   "execution_count": 28,
   "metadata": {},
   "outputs": [],
   "source": [
    "pacba17['dia_conclusao'] = pacba17.dat_conclusao_revisada.dt.day\n",
    "pacba17['mes_conclusao'] = pacba17.dat_conclusao_revisada.dt.month\n",
    "pacba17['ano_conclusao'] = pacba17.dat_conclusao_revisada.dt.year\n",
    "pacba17['dia_selecao'] = pacba17.dat_selecao.dt.day\n",
    "pacba17['mes_selecao'] = pacba17.dat_selecao.dt.month\n",
    "pacba17['ano_selecao'] = pacba17.dat_selecao.dt.year"
   ]
  },
  {
   "cell_type": "markdown",
   "metadata": {},
   "source": [
    "### Missing values"
   ]
  },
  {
   "cell_type": "markdown",
   "metadata": {},
   "source": [
    "#### Exclusão das colunas com missing values acima de 50%"
   ]
  },
  {
   "cell_type": "markdown",
   "metadata": {},
   "source": [
    "Dropa as colunas ``emblematica`` e ``observação`` dado o alto percentual de _missing values_"
   ]
  },
  {
   "cell_type": "code",
   "execution_count": 29,
   "metadata": {},
   "outputs": [],
   "source": [
    "pacba17 = pacba17.drop(columns = ['emblematica', 'observacao'])"
   ]
  },
  {
   "cell_type": "markdown",
   "metadata": {},
   "source": [
    "#### Plota as colunas com missing values"
   ]
  },
  {
   "cell_type": "code",
   "execution_count": 30,
   "metadata": {},
   "outputs": [],
   "source": [
    "def plot_missing(df):\n",
    "    columns = df.columns\n",
    "    percent_missing = df.isnull().sum() * 100 / len(df)\n",
    "    unique = df.nunique()\n",
    "    dtypes = df.dtypes\n",
    "    missing_value_data = pd.DataFrame({'column_name': columns,\n",
    "                                     'percent_missing': percent_missing,\n",
    "                                     'unique': unique,\n",
    "                                     'types': dtypes})\n",
    "    missing_value_data = missing_value_data[missing_value_data['percent_missing']>0]\n",
    "    missing_value_data=missing_value_data.sort_values(by=['percent_missing'], ascending=False)\n",
    "    \n",
    "    plt.figure(figsize=(9, 6))\n",
    "    ax = sns.barplot(x=\"column_name\", y=\"percent_missing\", hue='types', data=missing_value_data)\n",
    "    ax.axhline(50, ls='--', color = 'r')\n",
    "    ax.text(3,51,\"50% of missing values\", color = 'r')\n",
    "    ax.set_title(\"Percentage of Missing Values by column\")\n",
    "    plt.xticks(rotation=45)\n",
    "    print percent_missing\n",
    "    plt.show()"
   ]
  },
  {
   "cell_type": "code",
   "execution_count": 31,
   "metadata": {
    "scrolled": false
   },
   "outputs": [
    {
     "name": "stderr",
     "output_type": "stream",
     "text": [
      "/usr/lib/python2.7/dist-packages/seaborn/categorical.py:1508: FutureWarning: remove_na is deprecated and is a private function. Do not use.\n",
      "  stat_data = remove_na(group_data[hue_mask])\n"
     ]
    },
    {
     "name": "stdout",
     "output_type": "stream",
     "text": [
      "idn_empreendimento        0.000000\n",
      "id_digs                   0.000000\n",
      "titulo                    0.000000\n",
      "investimento_total        4.786273\n",
      "sig_uf                    0.000000\n",
      "txt_municipios            3.281156\n",
      "txt_executores            0.481638\n",
      "dsc_orgao                 0.000000\n",
      "idn_estagio               0.000000\n",
      "dat_ciclo                 0.000000\n",
      "dat_selecao               0.000000\n",
      "dat_conclusao_revisada    0.000000\n",
      "obra_latitude             5.207706\n",
      "obra_longitude            5.207706\n",
      "tipo_empreendimento       0.000000\n",
      "subeixo                   0.000000\n",
      "estagio                   0.000000\n",
      "dias_obra                 0.000000\n",
      "dia_conclusao             0.000000\n",
      "mes_conclusao             0.000000\n",
      "ano_conclusao             0.000000\n",
      "dia_selecao               0.000000\n",
      "mes_selecao               0.000000\n",
      "ano_selecao               0.000000\n",
      "dtype: float64\n"
     ]
    },
    {
     "data": {
      "image/png": "[encoded data removed]",
      "text/plain": [
       "<Figure size 648x432 with 1 Axes>"
      ]
     },
     "metadata": {
      "needs_background": "light"
     },
     "output_type": "display_data"
    }
   ],
   "source": [
    "plot_missing(pacba17)"
   ]
  },
  {
   "cell_type": "code",
   "execution_count": 32,
   "metadata": {},
   "outputs": [],
   "source": [
    "pacba17 = pacba17.dropna(subset=['obra_latitude', 'obra_longitude', 'dsc_orgao','txt_municipios', 'txt_executores'])"
   ]
  },
  {
   "cell_type": "markdown",
   "metadata": {},
   "source": [
    "### Divisão do dataset para desenvolvimento e produção"
   ]
  },
  {
   "cell_type": "markdown",
   "metadata": {},
   "source": [
    "Separação do dataset original para o dataset que será usado para treinar e testar o modelo e outro que será usado para o modelor estimar os valores de investimento.\n",
    "- Critério de split:\n",
    "    - Dataset de desenvolvimento: `investimento_total` diferentes de nulo;\n",
    "    - Dataset para produção: `investimento_total` com valores nulo;"
   ]
  },
  {
   "cell_type": "code",
   "execution_count": 33,
   "metadata": {},
   "outputs": [],
   "source": [
    "shape_dev = pacba17.shape[0]"
   ]
  },
  {
   "cell_type": "code",
   "execution_count": 34,
   "metadata": {},
   "outputs": [],
   "source": [
    "pacba17 = pacba17.dropna(subset=['investimento_total'])"
   ]
  },
  {
   "cell_type": "code",
   "execution_count": 35,
   "metadata": {},
   "outputs": [],
   "source": [
    "shape_prod = pacba17.shape[0]"
   ]
  },
  {
   "cell_type": "code",
   "execution_count": 36,
   "metadata": {},
   "outputs": [],
   "source": [
    "dev = float(shape_prod)/(shape_dev)\n",
    "prod = float(shape_dev - shape_prod)/(shape_dev)"
   ]
  },
  {
   "cell_type": "code",
   "execution_count": 37,
   "metadata": {},
   "outputs": [
    {
     "name": "stdout",
     "output_type": "stream",
     "text": [
      "98% do dataset será usado para desenvolvimento e 2% como dados de previsão após finalização do modelo\n"
     ]
    }
   ],
   "source": [
    "print('{0:.0%} do dataset será usado para desenvolvimento e {1:.0%} como dados de previsão após finalização do modelo'.format(dev, prod))"
   ]
  },
  {
   "cell_type": "markdown",
   "metadata": {},
   "source": [
    "### Tratando outliers"
   ]
  },
  {
   "cell_type": "markdown",
   "metadata": {},
   "source": [
    "#### `investimento_total`"
   ]
  },
  {
   "cell_type": "markdown",
   "metadata": {},
   "source": [
    "Detectando Outliers a partir do __Z-score__"
   ]
  },
  {
   "cell_type": "code",
   "execution_count": 38,
   "metadata": {},
   "outputs": [],
   "source": [
    "z = np.abs(stats.zscore(pacba17['investimento_total']))"
   ]
  },
  {
   "cell_type": "code",
   "execution_count": 39,
   "metadata": {},
   "outputs": [
    {
     "name": "stdout",
     "output_type": "stream",
     "text": [
      "(array([   1,    2,    3,    9,   10,  333,  334,  372,  373,  388,  389,\n",
      "        737, 1113, 1114, 1154, 1158, 1159, 1186, 2681, 2682, 2689, 2696,\n",
      "       2697, 2698, 2894, 2895, 2896, 2897, 2898, 2899, 2900, 2910, 2911,\n",
      "       2912, 2916, 2919]),)\n"
     ]
    }
   ],
   "source": [
    "print(np.where(z >3))"
   ]
  },
  {
   "cell_type": "code",
   "execution_count": 40,
   "metadata": {},
   "outputs": [],
   "source": [
    "pacba17 = pacba17[z<3]"
   ]
  },
  {
   "cell_type": "code",
   "execution_count": 41,
   "metadata": {},
   "outputs": [],
   "source": [
    "pacba17['log_investimento_total'] = np.log(pacba17['investimento_total'])"
   ]
  },
  {
   "cell_type": "code",
   "execution_count": 42,
   "metadata": {},
   "outputs": [
    {
     "name": "stderr",
     "output_type": "stream",
     "text": [
      "/usr/lib/python2.7/dist-packages/seaborn/categorical.py:462: FutureWarning: remove_na is deprecated and is a private function. Do not use.\n",
      "  box_data = remove_na(group_data)\n"
     ]
    },
    {
     "data": {
      "text/plain": [
       "<matplotlib.axes._subplots.AxesSubplot at 0x7f18159b4e50>"
      ]
     },
     "execution_count": 42,
     "metadata": {},
     "output_type": "execute_result"
    },
    {
     "data": {
      "image/png": "[encoded data removed]",
      "text/plain": [
       "<Figure size 432x288 with 1 Axes>"
      ]
     },
     "metadata": {
      "needs_background": "light"
     },
     "output_type": "display_data"
    }
   ],
   "source": [
    "sns.boxplot(y=pacba17['log_investimento_total'])"
   ]
  },
  {
   "cell_type": "code",
   "execution_count": 43,
   "metadata": {},
   "outputs": [
    {
     "data": {
      "image/png": "[encoded data removed]",
      "text/plain": [
       "<Figure size 432x288 with 1 Axes>"
      ]
     },
     "metadata": {
      "needs_background": "light"
     },
     "output_type": "display_data"
    }
   ],
   "source": [
    "plt.scatter(pacba17['dias_obra'], pacba17['log_investimento_total'], alpha=0.5)\n",
    "plt.xlabel('Dias de Obra')\n",
    "plt.ylabel('log(investimento_total)')\n",
    "plt.show()"
   ]
  },
  {
   "cell_type": "code",
   "execution_count": 44,
   "metadata": {},
   "outputs": [
    {
     "name": "stderr",
     "output_type": "stream",
     "text": [
      "/usr/lib/python2.7/dist-packages/scipy/stats/stats.py:1633: FutureWarning: Using a non-tuple sequence for multidimensional indexing is deprecated; use `arr[tuple(seq)]` instead of `arr[seq]`. In the future this will be interpreted as an array index, `arr[np.array(seq)]`, which will result either in an error or a different result.\n",
      "  return np.add.reduce(sorted[indexer] * weights, axis=axis) / sumval\n",
      "/home/fguer/.local/lib/python2.7/site-packages/matplotlib/axes/_axes.py:6571: UserWarning: The 'normed' kwarg is deprecated, and has been replaced by the 'density' kwarg.\n",
      "  warnings.warn(\"The 'normed' kwarg is deprecated, and has been \"\n"
     ]
    },
    {
     "data": {
      "text/plain": [
       "Text(0.5,0,'log(investimento_total)')"
      ]
     },
     "execution_count": 44,
     "metadata": {},
     "output_type": "execute_result"
    },
    {
     "data": {
      "image/png": "[encoded data removed]",
      "text/plain": [
       "<Figure size 432x288 with 1 Axes>"
      ]
     },
     "metadata": {
      "needs_background": "light"
     },
     "output_type": "display_data"
    }
   ],
   "source": [
    "sns.distplot(pacba17['log_investimento_total'])\n",
    "plt.xlabel('log(investimento_total)')"
   ]
  },
  {
   "cell_type": "code",
   "execution_count": 45,
   "metadata": {},
   "outputs": [
    {
     "data": {
      "text/plain": [
       "<matplotlib.axes._subplots.AxesSubplot at 0x7f18137eb750>"
      ]
     },
     "execution_count": 45,
     "metadata": {},
     "output_type": "execute_result"
    },
    {
     "data": {
      "image/png": "[encoded data removed]",
      "text/plain": [
       "<Figure size 1152x1008 with 2 Axes>"
      ]
     },
     "metadata": {
      "needs_background": "light"
     },
     "output_type": "display_data"
    }
   ],
   "source": [
    "from matplotlib.pyplot import figure\n",
    "figure(figsize=(16, 14))\n",
    "corr = pacba17.corr()\n",
    "mask = np.zeros_like(corr, dtype=np.bool)\n",
    "mask[np.triu_indices_from(mask)] = True\n",
    "cmap = sns.diverging_palette(10, 220, as_cmap=True)\n",
    "sns.heatmap(corr, mask=mask, cmap=cmap, vmax=.3, center=0,\n",
    "            square=True, linewidths=.5, cbar_kws={\"shrink\": .5})"
   ]
  },
  {
   "cell_type": "markdown",
   "metadata": {},
   "source": [
    "__Count de UFs__\n",
    "- Criar coluna calculada com o número de estados.\n",
    "- Dummificar essa coluna (?)."
   ]
  },
  {
   "cell_type": "code",
   "execution_count": 46,
   "metadata": {},
   "outputs": [],
   "source": [
    "pacba17 = pacba17.drop(columns=['idn_estagio', 'dat_ciclo', 'dat_selecao', 'dat_conclusao_revisada'])"
   ]
  },
  {
   "cell_type": "markdown",
   "metadata": {},
   "source": [
    "__Converte as colunas Latitude e Longitude de DMS para decimal__"
   ]
  },
  {
   "cell_type": "markdown",
   "metadata": {},
   "source": [
    "Precisa ser completado: Splitar os campos com valores multiplos e aplicar a função de conversão"
   ]
  },
  {
   "cell_type": "raw",
   "metadata": {},
   "source": [
    "pacba17['obra_latitude'] = pacba17.obra_latitude.astype('str')\n",
    "pacba17['obra_longitude'] = pacba17.obra_longitude.astype('str')"
   ]
  },
  {
   "cell_type": "raw",
   "metadata": {},
   "source": [
    "import re\n",
    "\n",
    "def dms2dd(s):\n",
    "    values = list(s)\n",
    "    if ',' in values:\n",
    "        values = values.split(',')\n",
    "    new_values = []\n",
    "    for value in values:\n",
    "        degrees, minutes, seconds, direction = re.split('[°\\'\"]+', value)\n",
    "        dd = float(degrees) + float(minutes)/60 + float(seconds)/(60*60);\n",
    "        if direction in ('S','W'):\n",
    "            dd*= -1\n",
    "        new_values.append(dd)\n",
    "    return new_values"
   ]
  },
  {
   "cell_type": "raw",
   "metadata": {},
   "source": [
    "pacba17['obra_latitude'] = pacba17['obra_latitude'].apply(dms2dd)\n",
    "pacba17['obra_longitude'] = pacba17['obra_longitude'].apply(dms2dd)"
   ]
  },
  {
   "cell_type": "markdown",
   "metadata": {},
   "source": [
    "Dropa Colunas que serão utilizadas (ou não) porsteriormente:\n",
    "- `sig_uf`: criar coluna calculada com número de estados.\n",
    "- `txt_municipios`: criar coluna calculada com número de municípios.\n",
    "- `obra_latitude`, `obra_longitude`: converter pra decimal."
   ]
  },
  {
   "cell_type": "code",
   "execution_count": 47,
   "metadata": {},
   "outputs": [
    {
     "data": {
      "text/html": [
       "<div>\n",
       "<style scoped>\n",
       "    .dataframe tbody tr th:only-of-type {\n",
       "        vertical-align: middle;\n",
       "    }\n",
       "\n",
       "    .dataframe tbody tr th {\n",
       "        vertical-align: top;\n",
       "    }\n",
       "\n",
       "    .dataframe thead th {\n",
       "        text-align: right;\n",
       "    }\n",
       "</style>\n",
       "<table border=\"1\" class=\"dataframe\">\n",
       "  <thead>\n",
       "    <tr style=\"text-align: right;\">\n",
       "      <th></th>\n",
       "      <th>idn_empreendimento</th>\n",
       "      <th>id_digs</th>\n",
       "      <th>titulo</th>\n",
       "      <th>investimento_total</th>\n",
       "      <th>sig_uf</th>\n",
       "      <th>txt_municipios</th>\n",
       "      <th>txt_executores</th>\n",
       "      <th>dsc_orgao</th>\n",
       "      <th>obra_latitude</th>\n",
       "      <th>obra_longitude</th>\n",
       "      <th>...</th>\n",
       "      <th>subeixo</th>\n",
       "      <th>estagio</th>\n",
       "      <th>dias_obra</th>\n",
       "      <th>dia_conclusao</th>\n",
       "      <th>mes_conclusao</th>\n",
       "      <th>ano_conclusao</th>\n",
       "      <th>dia_selecao</th>\n",
       "      <th>mes_selecao</th>\n",
       "      <th>ano_selecao</th>\n",
       "      <th>log_investimento_total</th>\n",
       "    </tr>\n",
       "  </thead>\n",
       "  <tbody>\n",
       "    <tr>\n",
       "      <th>62</th>\n",
       "      <td>4878</td>\n",
       "      <td>2001</td>\n",
       "      <td>SE Pólo 230/69 kV - BA</td>\n",
       "      <td>32690000.00</td>\n",
       "      <td>BA</td>\n",
       "      <td>CAMAÇARI/BA</td>\n",
       "      <td>Companhia hidro elétrica do São Francisco</td>\n",
       "      <td>Ministério de Minas e Energia</td>\n",
       "      <td>12°41'52.800000\"S</td>\n",
       "      <td>38°19'25.680000\"O</td>\n",
       "      <td>...</td>\n",
       "      <td>Infraestrutura Energética</td>\n",
       "      <td>concluido</td>\n",
       "      <td>1200</td>\n",
       "      <td>28</td>\n",
       "      <td>2</td>\n",
       "      <td>2016</td>\n",
       "      <td>15</td>\n",
       "      <td>11</td>\n",
       "      <td>2012</td>\n",
       "      <td>17.302580</td>\n",
       "    </tr>\n",
       "    <tr>\n",
       "      <th>196</th>\n",
       "      <td>8195</td>\n",
       "      <td>6002</td>\n",
       "      <td>Modernização da Infraestrutura do Perímetro de Irrigação Maniçoba - BA - BA</td>\n",
       "      <td>12434264.95</td>\n",
       "      <td>BA</td>\n",
       "      <td>JUAZEIRO/BA</td>\n",
       "      <td>Codevasf</td>\n",
       "      <td>Ministério da Integração Nacional</td>\n",
       "      <td>9°24'59.888340\"S</td>\n",
       "      <td>40°30'13.040712\"O</td>\n",
       "      <td>...</td>\n",
       "      <td>Infraestrutura Social e Urbana</td>\n",
       "      <td>em_obras</td>\n",
       "      <td>0</td>\n",
       "      <td>23</td>\n",
       "      <td>9</td>\n",
       "      <td>2013</td>\n",
       "      <td>23</td>\n",
       "      <td>9</td>\n",
       "      <td>2013</td>\n",
       "      <td>16.335967</td>\n",
       "    </tr>\n",
       "  </tbody>\n",
       "</table>\n",
       "<p>2 rows × 21 columns</p>\n",
       "</div>"
      ],
      "text/plain": [
       "    idn_empreendimento id_digs  \\\n",
       "62   4878               2001     \n",
       "196  8195               6002     \n",
       "\n",
       "                                                                          titulo  \\\n",
       "62   SE Pólo 230/69 kV - BA                                                        \n",
       "196  Modernização da Infraestrutura do Perímetro de Irrigação Maniçoba - BA - BA   \n",
       "\n",
       "     investimento_total sig_uf txt_municipios  \\\n",
       "62   32690000.00         BA     CAMAÇARI/BA     \n",
       "196  12434264.95         BA     JUAZEIRO/BA     \n",
       "\n",
       "                                txt_executores  \\\n",
       "62   Companhia hidro elétrica do São Francisco   \n",
       "196  Codevasf                                    \n",
       "\n",
       "                             dsc_orgao      obra_latitude     obra_longitude  \\\n",
       "62   Ministério de Minas e Energia      12°41'52.800000\"S  38°19'25.680000\"O   \n",
       "196  Ministério da Integração Nacional  9°24'59.888340\"S   40°30'13.040712\"O   \n",
       "\n",
       "              ...                                   subeixo    estagio  \\\n",
       "62            ...            Infraestrutura Energética       concluido   \n",
       "196           ...            Infraestrutura Social e Urbana  em_obras    \n",
       "\n",
       "    dias_obra  dia_conclusao  mes_conclusao  ano_conclusao  dia_selecao  \\\n",
       "62   1200      28             2              2016           15            \n",
       "196  0         23             9              2013           23            \n",
       "\n",
       "     mes_selecao  ano_selecao  log_investimento_total  \n",
       "62   11           2012         17.302580               \n",
       "196  9            2013         16.335967               \n",
       "\n",
       "[2 rows x 21 columns]"
      ]
     },
     "execution_count": 47,
     "metadata": {},
     "output_type": "execute_result"
    }
   ],
   "source": [
    "pacba17.head(2)"
   ]
  },
  {
   "cell_type": "code",
   "execution_count": 48,
   "metadata": {},
   "outputs": [],
   "source": [
    "pacba17 = pacba17.drop(columns = ['idn_empreendimento', 'titulo', 'sig_uf', 'txt_municipios', 'obra_latitude','obra_longitude'])"
   ]
  },
  {
   "cell_type": "markdown",
   "metadata": {},
   "source": [
    "### Getting dummies"
   ]
  },
  {
   "cell_type": "code",
   "execution_count": 49,
   "metadata": {},
   "outputs": [],
   "source": [
    "pacba17_dummies = pd.get_dummies(pacba17,columns=['dsc_orgao', 'tipo_empreendimento', 'subeixo', 'estagio', 'id_digs'], dummy_na=False)"
   ]
  },
  {
   "cell_type": "markdown",
   "metadata": {},
   "source": [
    "#### WARNING!!!!!!\n",
    "`txt_executores` com 82 valores únicos está sendo encoded!!"
   ]
  },
  {
   "cell_type": "raw",
   "metadata": {},
   "source": [
    "from sklearn import preprocessing\n",
    "le = preprocessing.LabelEncoder()\n",
    "pacba17_dummies['txt_executores'] = le.fit_transform(pacba17_dummies['txt_executores'])"
   ]
  },
  {
   "cell_type": "raw",
   "metadata": {},
   "source": [
    "pacba17_dummies.txt_executores.describe()"
   ]
  },
  {
   "cell_type": "code",
   "execution_count": 50,
   "metadata": {},
   "outputs": [],
   "source": [
    "pacba17_dummies = pacba17_dummies.drop(columns=['txt_executores', 'investimento_total'])"
   ]
  },
  {
   "cell_type": "markdown",
   "metadata": {},
   "source": [
    "Através da matriz de correlação, avaliando a relação entre a variável target `investimento_total` e as outras, percebe-se:\n",
    "- Alta correlação negativa: Obras pertencentes ao subeixo de Infraestrutura Social apresentam menores "
   ]
  },
  {
   "cell_type": "raw",
   "metadata": {},
   "source": [
    "pacba17_dummies.corr()['log_investimento_total'].sort_values()"
   ]
  },
  {
   "cell_type": "code",
   "execution_count": 51,
   "metadata": {},
   "outputs": [
    {
     "data": {
      "text/plain": [
       "<matplotlib.axes._subplots.AxesSubplot at 0x7f181553e090>"
      ]
     },
     "execution_count": 51,
     "metadata": {},
     "output_type": "execute_result"
    },
    {
     "data": {
      "image/png": "[encoded data removed]",
      "text/plain": [
       "<Figure size 1152x1008 with 2 Axes>"
      ]
     },
     "metadata": {
      "needs_background": "light"
     },
     "output_type": "display_data"
    }
   ],
   "source": [
    "from matplotlib.pyplot import figure\n",
    "figure(figsize=(16, 14))\n",
    "corr = pacba17_dummies.corr()\n",
    "mask = np.zeros_like(corr, dtype=np.bool)\n",
    "mask[np.triu_indices_from(mask)] = True\n",
    "cmap = sns.diverging_palette(10, 220, as_cmap=True)\n",
    "sns.heatmap(corr, mask=mask, cmap=cmap, vmax=.3, center=0,\n",
    "            square=True, linewidths=.5, cbar_kws={\"shrink\": .5})"
   ]
  },
  {
   "cell_type": "markdown",
   "metadata": {},
   "source": [
    "#### Shuffle and Split Data"
   ]
  },
  {
   "cell_type": "code",
   "execution_count": 52,
   "metadata": {},
   "outputs": [],
   "source": [
    "features = pacba17_dummies.drop(columns='log_investimento_total')\n",
    "prices = pacba17_dummies['log_investimento_total']"
   ]
  },
  {
   "cell_type": "code",
   "execution_count": 53,
   "metadata": {},
   "outputs": [
    {
     "name": "stdout",
     "output_type": "stream",
     "text": [
      "Training and testing split was successful.\n"
     ]
    },
    {
     "name": "stderr",
     "output_type": "stream",
     "text": [
      "/usr/lib/python2.7/dist-packages/sklearn/cross_validation.py:41: DeprecationWarning: This module was deprecated in version 0.18 in favor of the model_selection module into which all the refactored classes and functions are moved. Also note that the interface of the new CV iterators are different from that of this module. This module will be removed in 0.20.\n",
      "  \"This module will be removed in 0.20.\", DeprecationWarning)\n"
     ]
    }
   ],
   "source": [
    "from sklearn.cross_validation import train_test_split\n",
    "\n",
    "X_train, X_test, y_train, y_test = train_test_split(features, prices, test_size=0.3, random_state=10)\n",
    "\n",
    "print \"Training and testing split was successful.\""
   ]
  },
  {
   "cell_type": "markdown",
   "metadata": {},
   "source": [
    "### Evaluation Metrics\n",
    "\n",
    "1. Mean Absolute Error (MAE).\n",
    "2. Mean Square Error (MSE).\n",
    "3. Root Mean Square Error (RMSE)."
   ]
  },
  {
   "cell_type": "code",
   "execution_count": 54,
   "metadata": {},
   "outputs": [
    {
     "name": "stderr",
     "output_type": "stream",
     "text": [
      "/usr/lib/python2.7/dist-packages/sklearn/ensemble/weight_boosting.py:29: DeprecationWarning: numpy.core.umath_tests is an internal NumPy module and should not be imported. It will be removed in a future NumPy release.\n",
      "  from numpy.core.umath_tests import inner1d\n"
     ]
    }
   ],
   "source": [
    "from sklearn.linear_model import ElasticNet, Lasso, LassoCV, Ridge, LinearRegression\n",
    "from sklearn.ensemble import GradientBoostingRegressor\n",
    "from sklearn.svm import SVR\n",
    "from sklearn.pipeline import make_pipeline\n",
    "from sklearn.model_selection import KFold, cross_val_score\n",
    "from sklearn.metrics import mean_squared_error, mean_absolute_error"
   ]
  },
  {
   "cell_type": "code",
   "execution_count": 55,
   "metadata": {},
   "outputs": [],
   "source": [
    "def evaluate(X, Y,model):\n",
    "    scores = ['neg_mean_absolute_error','neg_mean_squared_error','r2']\n",
    "    results = 0\n",
    "    for score in scores:\n",
    "        results = cross_val_score(model, X, Y, cv=kfold, scoring=score)\n",
    "        print('{}| mean {}| std {}'.format(score,results.mean(),results.std()))"
   ]
  },
  {
   "cell_type": "code",
   "execution_count": 56,
   "metadata": {},
   "outputs": [],
   "source": [
    "kfold = KFold(n_splits=10, shuffle=True, random_state=42)"
   ]
  },
  {
   "cell_type": "code",
   "execution_count": 57,
   "metadata": {},
   "outputs": [
    {
     "name": "stdout",
     "output_type": "stream",
     "text": [
      "neg_mean_absolute_error| mean -0.715145315041| std 0.0340732043605\n",
      "neg_mean_squared_error| mean -1.0224164542| std 0.157138369136\n",
      "r2| mean 0.603311309489| std 0.0632723816291\n"
     ]
    }
   ],
   "source": [
    "LN = LinearRegression()\n",
    "evaluate(features, prices, LN)"
   ]
  },
  {
   "cell_type": "markdown",
   "metadata": {},
   "source": [
    "#### Benchmark Model"
   ]
  },
  {
   "cell_type": "code",
   "execution_count": 58,
   "metadata": {},
   "outputs": [],
   "source": [
    "LN.fit(X_train, y_train)\n",
    "y_pred = LN.predict(X_test)"
   ]
  },
  {
   "cell_type": "code",
   "execution_count": 59,
   "metadata": {},
   "outputs": [],
   "source": [
    "def evaluate_model(model, y, y_pred):\n",
    "    assert len(y) == len(y_pred)\n",
    "    print('-'*40)\n",
    "    print(model)\n",
    "    print('Mean Square Error:{:.2}'.format(mean_squared_error(y, y_pred)))\n",
    "    print('Mean Absolute Error:{:.2}'.format(mean_absolute_error(y, y_pred)))\n",
    "    print('Root Mean Square Error:{:.2}'.format(np.sqrt(mean_squared_error(y, y_pred))))"
   ]
  },
  {
   "cell_type": "code",
   "execution_count": 60,
   "metadata": {
    "scrolled": true
   },
   "outputs": [
    {
     "name": "stdout",
     "output_type": "stream",
     "text": [
      "----------------------------------------\n",
      "LinearRegression(copy_X=True, fit_intercept=True, n_jobs=1, normalize=False)\n",
      "Mean Square Error:0.9\n",
      "Mean Absolute Error:0.7\n",
      "Root Mean Square Error:0.95\n"
     ]
    },
    {
     "data": {
      "text/plain": [
       "<matplotlib.collections.PathCollection at 0x7f180694cf50>"
      ]
     },
     "execution_count": 60,
     "metadata": {},
     "output_type": "execute_result"
    },
    {
     "data": {
      "image/png": "[encoded data removed]",
      "text/plain": [
       "<Figure size 432x288 with 1 Axes>"
      ]
     },
     "metadata": {
      "needs_background": "light"
     },
     "output_type": "display_data"
    }
   ],
   "source": [
    "evaluate_model(LN,y_test, y_pred)\n",
    "plt.scatter(y_test, y_pred)"
   ]
  },
  {
   "cell_type": "markdown",
   "metadata": {},
   "source": [
    "## Model Selection"
   ]
  },
  {
   "cell_type": "code",
   "execution_count": 61,
   "metadata": {},
   "outputs": [],
   "source": [
    "from sklearn.ensemble import RandomForestRegressor, ExtraTreesRegressor, AdaBoostRegressor, GradientBoostingRegressor, BaggingRegressor\n",
    "from sklearn.neighbors import KNeighborsRegressor\n",
    "from sklearn.svm import SVR"
   ]
  },
  {
   "cell_type": "code",
   "execution_count": 62,
   "metadata": {},
   "outputs": [],
   "source": [
    "models = {\"RandomForest_Regressor\" : RandomForestRegressor(n_estimators = 15, min_samples_split=2, random_state = 42, min_samples_leaf=1),\n",
    "\"KNeighbors_Regressor\" : KNeighborsRegressor(n_neighbors= 3),\n",
    "\"ExtraTrees_Regressor\" : ExtraTreesRegressor(n_estimators=8, criterion='mse'),\n",
    "\"SVRegressor\" : SVR(kernel='rbf', gamma='auto'),\n",
    "\"AdaBoost_Regressor\" : AdaBoostRegressor(base_estimator=RandomForestRegressor(n_estimators = 15,random_state = 42)),\n",
    "\"Bagging_Regressor\" : BaggingRegressor(),\n",
    "\"GradientBoosting_Regressor\" : GradientBoostingRegressor()}"
   ]
  },
  {
   "cell_type": "code",
   "execution_count": 64,
   "metadata": {},
   "outputs": [
    {
     "name": "stdout",
     "output_type": "stream",
     "text": [
      "----------------------------------------\n",
      "RandomForest_Regressor\n",
      "Mean Square Error:0.66\n",
      "Mean Absolute Error:0.54\n",
      "Root Mean Square Error:0.81\n",
      "Runnig time: 0.13s\n",
      "----------------------------------------\n",
      "SVRegressor\n",
      "Mean Square Error:1.3\n",
      "Mean Absolute Error:0.72\n",
      "Root Mean Square Error:1.2\n",
      "Runnig time: 0.47s\n",
      "----------------------------------------\n",
      "ExtraTrees_Regressor\n",
      "Mean Square Error:0.71\n",
      "Mean Absolute Error:0.53\n",
      "Root Mean Square Error:0.84\n",
      "Runnig time: 0.051s\n",
      "----------------------------------------\n",
      "KNeighbors_Regressor\n",
      "Mean Square Error:1.4\n",
      "Mean Absolute Error:0.77\n",
      "Root Mean Square Error:1.2\n",
      "Runnig time: 0.032s\n",
      "----------------------------------------\n",
      "GradientBoosting_Regressor\n",
      "Mean Square Error:0.63\n",
      "Mean Absolute Error:0.56\n",
      "Root Mean Square Error:0.79\n",
      "Runnig time: 0.23s\n",
      "----------------------------------------\n",
      "Bagging_Regressor\n",
      "Mean Square Error:0.66\n",
      "Mean Absolute Error:0.54\n",
      "Root Mean Square Error:0.81\n",
      "Runnig time: 0.076s\n",
      "----------------------------------------\n",
      "AdaBoost_Regressor\n",
      "Mean Square Error:0.68\n",
      "Mean Absolute Error:0.57\n",
      "Root Mean Square Error:0.83\n",
      "Runnig time: 1.2s\n"
     ]
    }
   ],
   "source": [
    "for name, model in models.items():\n",
    "    start = datetime.now()\n",
    "    model.fit(X_train, y_train)\n",
    "    y_pred = model.predict(X_test)\n",
    "    finish = datetime.now()\n",
    "    evaluate_model(name, y_test, y_pred)\n",
    "    print(\"Runnig time: {:.2}s\".format((finish - start).total_seconds()))"
   ]
  },
  {
   "cell_type": "markdown",
   "metadata": {},
   "source": [
    "### Tunning Model Parameters"
   ]
  },
  {
   "cell_type": "markdown",
   "metadata": {},
   "source": [
    "#### Gradient Boosting Regressor"
   ]
  },
  {
   "cell_type": "code",
   "execution_count": 65,
   "metadata": {},
   "outputs": [
    {
     "data": {
      "text/plain": [
       "<matplotlib.collections.PathCollection at 0x7f1815a35c10>"
      ]
     },
     "execution_count": 65,
     "metadata": {},
     "output_type": "execute_result"
    },
    {
     "data": {
      "image/png": "[encoded data removed]",
      "text/plain": [
       "<Figure size 432x288 with 1 Axes>"
      ]
     },
     "metadata": {
      "needs_background": "light"
     },
     "output_type": "display_data"
    }
   ],
   "source": [
    "GBR = models['GradientBoosting_Regressor']\n",
    "GBR.fit(X_train, y_train)\n",
    "y_pred = GBR.predict(X_test)\n",
    "plt.scatter(y_test, y_pred)"
   ]
  },
  {
   "cell_type": "markdown",
   "metadata": {},
   "source": [
    "#### Random Forest Regressor"
   ]
  },
  {
   "cell_type": "code",
   "execution_count": 66,
   "metadata": {},
   "outputs": [
    {
     "data": {
      "text/plain": [
       "Text(0,0.5,'y_pred')"
      ]
     },
     "execution_count": 66,
     "metadata": {},
     "output_type": "execute_result"
    },
    {
     "data": {
      "image/png": "[encoded data removed]",
      "text/plain": [
       "<Figure size 432x288 with 1 Axes>"
      ]
     },
     "metadata": {
      "needs_background": "light"
     },
     "output_type": "display_data"
    }
   ],
   "source": [
    "RF = models['RandomForest_Regressor']\n",
    "RF.fit(X_train, y_train)\n",
    "y_pred = RF.predict(X_test)\n",
    "plt.scatter(y_test, y_pred)\n",
    "plt.xlabel('y_test')\n",
    "plt.ylabel('y_pred')"
   ]
  },
  {
   "cell_type": "code",
   "execution_count": 67,
   "metadata": {},
   "outputs": [
    {
     "data": {
      "text/plain": [
       "<matplotlib.axes._subplots.AxesSubplot at 0x7f18068acfd0>"
      ]
     },
     "execution_count": 67,
     "metadata": {},
     "output_type": "execute_result"
    },
    {
     "data": {
      "image/png": "[encoded data removed]",
      "text/plain": [
       "<Figure size 432x288 with 1 Axes>"
      ]
     },
     "metadata": {
      "needs_background": "light"
     },
     "output_type": "display_data"
    }
   ],
   "source": [
    "import seaborn as sns\n",
    "sns.distplot(y_pred)"
   ]
  },
  {
   "cell_type": "code",
   "execution_count": 68,
   "metadata": {},
   "outputs": [
    {
     "data": {
      "text/plain": [
       "<matplotlib.axes._subplots.AxesSubplot at 0x7f180683a6d0>"
      ]
     },
     "execution_count": 68,
     "metadata": {},
     "output_type": "execute_result"
    },
    {
     "data": {
      "image/png": "[encoded data removed]",
      "text/plain": [
       "<Figure size 432x288 with 1 Axes>"
      ]
     },
     "metadata": {
      "needs_background": "light"
     },
     "output_type": "display_data"
    }
   ],
   "source": [
    "sns.distplot(y_test)"
   ]
  },
  {
   "cell_type": "code",
   "execution_count": 69,
   "metadata": {},
   "outputs": [],
   "source": [
    "residuos = y_pred - y_test"
   ]
  },
  {
   "cell_type": "code",
   "execution_count": 70,
   "metadata": {},
   "outputs": [
    {
     "data": {
      "text/plain": [
       "<matplotlib.axes._subplots.AxesSubplot at 0x7f1806720710>"
      ]
     },
     "execution_count": 70,
     "metadata": {},
     "output_type": "execute_result"
    },
    {
     "data": {
      "image/png": "[encoded data removed]",
      "text/plain": [
       "<Figure size 432x288 with 1 Axes>"
      ]
     },
     "metadata": {
      "needs_background": "light"
     },
     "output_type": "display_data"
    }
   ],
   "source": [
    "sns.distplot(residuos)"
   ]
  },
  {
   "cell_type": "markdown",
   "metadata": {},
   "source": [
    "#### KNeighbours Regressor"
   ]
  },
  {
   "cell_type": "code",
   "execution_count": 71,
   "metadata": {},
   "outputs": [
    {
     "data": {
      "text/plain": [
       "<matplotlib.collections.PathCollection at 0x7f180653d6d0>"
      ]
     },
     "execution_count": 71,
     "metadata": {},
     "output_type": "execute_result"
    },
    {
     "data": {
      "image/png": "[encoded data removed]",
      "text/plain": [
       "<Figure size 432x288 with 1 Axes>"
      ]
     },
     "metadata": {
      "needs_background": "light"
     },
     "output_type": "display_data"
    }
   ],
   "source": [
    "KNR = models['Bagging_Regressor']\n",
    "KNR.fit(X_train, y_train)\n",
    "y_pred = KNR.predict(X_test)\n",
    "plt.scatter(y_test, y_pred)"
   ]
  }
 ],
 "metadata": {
  "kernelspec": {
   "display_name": "Python 3",
   "language": "python",
   "name": "python3"
  },
  "language_info": {
   "codemirror_mode": {
    "name": "ipython",
    "version": 2
   },
   "file_extension": ".py",
   "mimetype": "text/x-python",
   "name": "python",
   "nbconvert_exporter": "python",
   "pygments_lexer": "ipython2",
   "version": "2.7.15rc1"
  }
 },
 "nbformat": 4,
 "nbformat_minor": 2
}
